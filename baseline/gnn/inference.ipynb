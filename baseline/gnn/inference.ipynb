{
 "cells": [
  {
   "cell_type": "code",
   "execution_count": 1,
   "id": "350af28e-77e0-4d38-a0cf-690afd1ba565",
   "metadata": {},
   "outputs": [
    {
     "name": "stderr",
     "output_type": "stream",
     "text": [
      "Using backend: pytorch\n"
     ]
    }
   ],
   "source": [
    "import dgl\n",
    "import os\n",
    "import time\n",
    "import pandas as pd\n",
    "import torch as th\n",
    "import torch.nn.functional as F\n",
    "import numpy as np\n",
    "from dgl.dataloading.neighbor import MultiLayerNeighborSampler\n",
    "from dgl.dataloading.pytorch import NodeDataLoader\n",
    "\n",
    "from models import GraphSageModel, GraphConvModel, GraphAttnModel\n",
    "from utils import load_dgl_graph, time_diff\n",
    "from model_train import load_subtensor"
   ]
  },
  {
   "cell_type": "code",
   "execution_count": 55,
   "id": "dab4abe1-b683-493c-9797-a224ff4fa035",
   "metadata": {},
   "outputs": [],
   "source": [
    "# paths\n",
    "output_dir = \"./output/experiment-2021-11-18-46422\"\n",
    "model_name = \"model-best-val-acc-0.56798.pth\" #\"dgl_model-009116.pth\"\n",
    "data_path = \"../../dataset\"\n",
    "model_path = os.path.join(output_dir, model_name)"
   ]
  },
  {
   "cell_type": "code",
   "execution_count": 56,
   "id": "1520e2d1-a68f-4523-9ab7-6779306cf042",
   "metadata": {},
   "outputs": [],
   "source": [
    "# model settings\n",
    "gnn_model = \"graphsage\"\n",
    "in_feat = 300\n",
    "hidden_dim = [192, 64] \n",
    "n_layers = 3\n",
    "fanouts = [15, 15, 15]  # 注意当改变n_layers时也要改变fanouts\n",
    "batch_size = 4096\n",
    "num_workers = 4\n",
    "device_id = 0\n",
    "\n",
    "n_classes = 23\n",
    "LABELS = [chr(ord('A')+i) for i in range(n_classes)]"
   ]
  },
  {
   "cell_type": "code",
   "execution_count": 4,
   "id": "950333a1-6863-4bd3-8c61-40582b6ffd46",
   "metadata": {},
   "outputs": [
    {
     "name": "stdout",
     "output_type": "stream",
     "text": [
      "################ Graph info: ###############\n",
      "Graph(num_nodes=3655452, num_edges=29168650,\n",
      "      ndata_schemes={}\n",
      "      edata_schemes={})\n",
      "################ Label info: ################\n",
      "Total labels (including not labeled): 3655452\n",
      "               Training label number: 939963\n",
      "             Validation label number: 104454\n",
      "                   Test label number: 592391\n",
      "################ Feature info: ###############\n",
      "Node's feature shape:torch.Size([3655452, 300])\n"
     ]
    }
   ],
   "source": [
    "# Retrieve preprocessed data and add reverse edge and self-loop\n",
    "graph, labels, train_nid, val_nid, test_nid, node_feat = load_dgl_graph(data_path)\n",
    "test_nid = test_nid[:591972]  # 只预测validation中的结点\n",
    "graph = dgl.to_bidirected(graph, copy_ndata=True)\n",
    "graph = dgl.add_self_loop(graph)"
   ]
  },
  {
   "cell_type": "code",
   "execution_count": 5,
   "id": "ef9410f7-afae-417d-a4b7-0422874ba09f",
   "metadata": {},
   "outputs": [
    {
     "data": {
      "text/plain": [
       "tensor([[ 9.0308e-01,  7.9809e-01, -2.0559e-01,  ..., -1.0074e+00,\n",
       "          7.0118e-01, -4.9786e-01],\n",
       "        [-5.9863e-01,  4.4366e-01, -1.0016e+00,  ..., -2.0384e+00,\n",
       "          1.0898e+00,  7.3255e-01],\n",
       "        [ 1.5540e+00,  3.0408e+00,  4.8199e-01,  ...,  1.1197e+00,\n",
       "         -5.3127e-01, -1.8786e+00],\n",
       "        ...,\n",
       "        [-2.4577e-14,  8.7639e-15,  2.0788e-14,  ...,  2.0809e-14,\n",
       "         -1.6891e-14, -3.0355e-14],\n",
       "        [-2.4577e-14,  8.7639e-15,  2.0788e-14,  ...,  2.0809e-14,\n",
       "         -1.6891e-14, -3.0355e-14],\n",
       "        [-2.4577e-14,  8.7639e-15,  2.0788e-14,  ...,  2.0809e-14,\n",
       "         -1.6891e-14, -3.0355e-14]])"
      ]
     },
     "execution_count": 5,
     "metadata": {},
     "output_type": "execute_result"
    }
   ],
   "source": [
    "node_feat"
   ]
  },
  {
   "cell_type": "code",
   "execution_count": 57,
   "id": "d2867716-0cd7-4817-8fdb-353316a9e86b",
   "metadata": {},
   "outputs": [],
   "source": [
    "sampler = MultiLayerNeighborSampler(fanouts)\n",
    "test_dataloader = NodeDataLoader(graph,\n",
    "                                  test_nid,\n",
    "                                  sampler,\n",
    "                                  batch_size=4096,  #len(test_nid),\n",
    "                                  shuffle=False,\n",
    "                                  drop_last=False,\n",
    "                                  num_workers=num_workers,\n",
    "                                  )"
   ]
  },
  {
   "cell_type": "code",
   "execution_count": 58,
   "id": "376b6b89-b315-45bb-a399-aa45791d250b",
   "metadata": {},
   "outputs": [],
   "source": [
    "if gnn_model == 'graphsage':\n",
    "    model = GraphSageModel(in_feat, hidden_dim, n_layers, n_classes)\n",
    "elif gnn_model == 'graphconv':\n",
    "    model = GraphConvModel(in_feat, hidden_dim, n_layers, n_classes,\n",
    "                           norm='both', activation=F.relu, dropout=0)\n",
    "elif gnn_model == 'graphattn':\n",
    "    model = GraphAttnModel(in_feat, hidden_dim, n_layers, n_classes,\n",
    "                           heads=([5] * n_layers), activation=F.relu, feat_drop=0, attn_drop=0)\n",
    "else:\n",
    "    raise NotImplementedError('So far, only support three algorithms: GraphSage, GraphConv, and GraphAttn')"
   ]
  },
  {
   "cell_type": "code",
   "execution_count": 59,
   "id": "275edbdd-8a48-4684-8cc4-0b7ad443d74e",
   "metadata": {},
   "outputs": [
    {
     "data": {
      "text/plain": [
       "GraphSageModel(\n",
       "  (dropout): Dropout(p=0, inplace=False)\n",
       "  (layers): ModuleList(\n",
       "    (0): SAGEConv(\n",
       "      (feat_drop): Dropout(p=0.0, inplace=False)\n",
       "      (fc_self): Linear(in_features=300, out_features=192, bias=False)\n",
       "      (fc_neigh): Linear(in_features=300, out_features=192, bias=False)\n",
       "    )\n",
       "    (1): SAGEConv(\n",
       "      (feat_drop): Dropout(p=0.0, inplace=False)\n",
       "      (fc_self): Linear(in_features=192, out_features=64, bias=False)\n",
       "      (fc_neigh): Linear(in_features=192, out_features=64, bias=False)\n",
       "    )\n",
       "    (2): SAGEConv(\n",
       "      (feat_drop): Dropout(p=0.0, inplace=False)\n",
       "      (fc_self): Linear(in_features=64, out_features=23, bias=False)\n",
       "      (fc_neigh): Linear(in_features=64, out_features=23, bias=False)\n",
       "    )\n",
       "  )\n",
       ")"
      ]
     },
     "execution_count": 59,
     "metadata": {},
     "output_type": "execute_result"
    }
   ],
   "source": [
    "# laod model parameters\n",
    "params = th.load(model_path)\n",
    "model.load_state_dict(params)\n",
    "model.to(device_id)"
   ]
  },
  {
   "cell_type": "code",
   "execution_count": 60,
   "id": "b92821e1-5d29-416d-97ab-302e8d3dba04",
   "metadata": {},
   "outputs": [
    {
     "name": "stdout",
     "output_type": "stream",
     "text": [
      "layers.0.bias: torch.Size([192]) 192\n",
      "layers.0.fc_self.weight: torch.Size([192, 300]) 57600\n",
      "layers.0.fc_neigh.weight: torch.Size([192, 300]) 57600\n",
      "layers.1.bias: torch.Size([64]) 64\n",
      "layers.1.fc_self.weight: torch.Size([64, 192]) 12288\n",
      "layers.1.fc_neigh.weight: torch.Size([64, 192]) 12288\n",
      "layers.2.bias: torch.Size([23]) 23\n",
      "layers.2.fc_self.weight: torch.Size([23, 64]) 1472\n",
      "layers.2.fc_neigh.weight: torch.Size([23, 64]) 1472\n",
      "total: 142999\n"
     ]
    }
   ],
   "source": [
    "n = 0\n",
    "def prod(x):\n",
    "    if len(x) == 0:\n",
    "        return None\n",
    "    elif len(x) == 1:\n",
    "        return x[0]\n",
    "    else:\n",
    "        return x[0] * prod(x[1:])\n",
    "for k, v in params.items():\n",
    "    print(f\"{k}: {v.shape} {prod(v.shape)}\")\n",
    "    n += prod(v.shape)\n",
    "print(f\"total: {n}\")"
   ]
  },
  {
   "cell_type": "code",
   "execution_count": 61,
   "id": "ddad6f66-f23c-48f5-9238-5f58b54c2f70",
   "metadata": {
    "tags": []
   },
   "outputs": [
    {
     "name": "stdout",
     "output_type": "stream",
     "text": [
      "Predict Done ...\n"
     ]
    }
   ],
   "source": [
    "model.eval()\n",
    "test_logits = np.zeros((0, 23))\n",
    "test_idx = []\n",
    "for step, (input_nodes, seeds, blocks) in enumerate(test_dataloader):\n",
    "    # forward\n",
    "    batch_inputs, batch_labels = load_subtensor(node_feat, labels, seeds, input_nodes, device_id)\n",
    "    blocks = [block.to(device_id) for block in blocks]\n",
    "    \n",
    "    test_batch_logits = model(blocks, batch_inputs)\n",
    "    test_batch_logits = test_batch_logits.cpu().detach().numpy()\n",
    "    test_logits = np.concatenate([test_logits, test_batch_logits], axis=0)\n",
    "    test_idx.extend(seeds.cpu().detach().tolist())\n",
    "    \n",
    "print(\"Predict Done ...\")"
   ]
  },
  {
   "cell_type": "code",
   "execution_count": 62,
   "id": "2deea12e-2e69-4c68-833d-9d28b4dc7da0",
   "metadata": {},
   "outputs": [
    {
     "name": "stderr",
     "output_type": "stream",
     "text": [
      "/home/gzy/.local/lib/python3.8/site-packages/IPython/core/interactiveshell.py:3169: DtypeWarning: Columns (2) have mixed types.Specify dtype option on import or set low_memory=False.\n",
      "  has_raised = await self.run_ast_nodes(code_ast.body, cell_name,\n"
     ]
    }
   ],
   "source": [
    "id_labels = pd.read_csv(\"../../dataset/IDandLabels.csv\")"
   ]
  },
  {
   "cell_type": "code",
   "execution_count": 63,
   "id": "c3904dcd-b12a-4baa-b94e-796bf9a9038b",
   "metadata": {
    "tags": []
   },
   "outputs": [
    {
     "data": {
      "text/html": [
       "<div>\n",
       "<style scoped>\n",
       "    .dataframe tbody tr th:only-of-type {\n",
       "        vertical-align: middle;\n",
       "    }\n",
       "\n",
       "    .dataframe tbody tr th {\n",
       "        vertical-align: top;\n",
       "    }\n",
       "\n",
       "    .dataframe thead th {\n",
       "        text-align: right;\n",
       "    }\n",
       "</style>\n",
       "<table border=\"1\" class=\"dataframe\">\n",
       "  <thead>\n",
       "    <tr style=\"text-align: right;\">\n",
       "      <th></th>\n",
       "      <th>node_idx</th>\n",
       "      <th>paper_id</th>\n",
       "      <th>Label</th>\n",
       "      <th>Split_ID</th>\n",
       "    </tr>\n",
       "  </thead>\n",
       "  <tbody>\n",
       "    <tr>\n",
       "      <th>3063061</th>\n",
       "      <td>3063061</td>\n",
       "      <td>c39457cc34fa969b03819eaa4f9b7a52</td>\n",
       "      <td>NaN</td>\n",
       "      <td>1</td>\n",
       "    </tr>\n",
       "    <tr>\n",
       "      <th>3063062</th>\n",
       "      <td>3063062</td>\n",
       "      <td>668b9d0c53e9b6e2c6b1093102f976b3</td>\n",
       "      <td>NaN</td>\n",
       "      <td>1</td>\n",
       "    </tr>\n",
       "    <tr>\n",
       "      <th>3063063</th>\n",
       "      <td>3063063</td>\n",
       "      <td>ca5c7bc1b40c0ef3c3f864aed032ca90</td>\n",
       "      <td>NaN</td>\n",
       "      <td>1</td>\n",
       "    </tr>\n",
       "    <tr>\n",
       "      <th>3063064</th>\n",
       "      <td>3063064</td>\n",
       "      <td>44f810c0c000cda27ce618add55e815f</td>\n",
       "      <td>NaN</td>\n",
       "      <td>1</td>\n",
       "    </tr>\n",
       "    <tr>\n",
       "      <th>3063065</th>\n",
       "      <td>3063065</td>\n",
       "      <td>3c206335d88637d36d83c2942586be98</td>\n",
       "      <td>NaN</td>\n",
       "      <td>1</td>\n",
       "    </tr>\n",
       "    <tr>\n",
       "      <th>...</th>\n",
       "      <td>...</td>\n",
       "      <td>...</td>\n",
       "      <td>...</td>\n",
       "      <td>...</td>\n",
       "    </tr>\n",
       "    <tr>\n",
       "      <th>3655028</th>\n",
       "      <td>3655028</td>\n",
       "      <td>5e231ec5d4167c541055092ee6e65a74</td>\n",
       "      <td>NaN</td>\n",
       "      <td>1</td>\n",
       "    </tr>\n",
       "    <tr>\n",
       "      <th>3655029</th>\n",
       "      <td>3655029</td>\n",
       "      <td>25f30607d6bfd52ca2780d8ea928e77e</td>\n",
       "      <td>NaN</td>\n",
       "      <td>1</td>\n",
       "    </tr>\n",
       "    <tr>\n",
       "      <th>3655030</th>\n",
       "      <td>3655030</td>\n",
       "      <td>703abf983edaaef1d34091eabb4ffd20</td>\n",
       "      <td>NaN</td>\n",
       "      <td>1</td>\n",
       "    </tr>\n",
       "    <tr>\n",
       "      <th>3655031</th>\n",
       "      <td>3655031</td>\n",
       "      <td>d051d9bec90a57152776fc5e9b08e5b2</td>\n",
       "      <td>NaN</td>\n",
       "      <td>1</td>\n",
       "    </tr>\n",
       "    <tr>\n",
       "      <th>3655032</th>\n",
       "      <td>3655032</td>\n",
       "      <td>6f320571453737210aa7c91068cd3813</td>\n",
       "      <td>NaN</td>\n",
       "      <td>1</td>\n",
       "    </tr>\n",
       "  </tbody>\n",
       "</table>\n",
       "<p>591972 rows × 4 columns</p>\n",
       "</div>"
      ],
      "text/plain": [
       "         node_idx                          paper_id Label  Split_ID\n",
       "3063061   3063061  c39457cc34fa969b03819eaa4f9b7a52   NaN         1\n",
       "3063062   3063062  668b9d0c53e9b6e2c6b1093102f976b3   NaN         1\n",
       "3063063   3063063  ca5c7bc1b40c0ef3c3f864aed032ca90   NaN         1\n",
       "3063064   3063064  44f810c0c000cda27ce618add55e815f   NaN         1\n",
       "3063065   3063065  3c206335d88637d36d83c2942586be98   NaN         1\n",
       "...           ...                               ...   ...       ...\n",
       "3655028   3655028  5e231ec5d4167c541055092ee6e65a74   NaN         1\n",
       "3655029   3655029  25f30607d6bfd52ca2780d8ea928e77e   NaN         1\n",
       "3655030   3655030  703abf983edaaef1d34091eabb4ffd20   NaN         1\n",
       "3655031   3655031  d051d9bec90a57152776fc5e9b08e5b2   NaN         1\n",
       "3655032   3655032  6f320571453737210aa7c91068cd3813   NaN         1\n",
       "\n",
       "[591972 rows x 4 columns]"
      ]
     },
     "execution_count": 63,
     "metadata": {},
     "output_type": "execute_result"
    }
   ],
   "source": [
    "id_labels.loc[test_idx]"
   ]
  },
  {
   "cell_type": "code",
   "execution_count": 101,
   "id": "b9ab28f7-fd9c-44bf-92af-6a5b17d9bb3b",
   "metadata": {},
   "outputs": [],
   "source": [
    "ids = id_labels.loc[test_idx]['paper_id']\n",
    "test_pred = test_logits.argmax(axis=1)"
   ]
  },
  {
   "cell_type": "markdown",
   "id": "55d7b53e-c7dd-4e5f-af57-f1addc262ea0",
   "metadata": {},
   "source": [
    "## 读取推断出的测试节点标签，进行替换"
   ]
  },
  {
   "cell_type": "code",
   "execution_count": 103,
   "id": "4f08f438-4fbf-4f3a-86df-8488bb49b67a",
   "metadata": {},
   "outputs": [
    {
     "data": {
      "text/plain": [
       "(14214,)"
      ]
     },
     "execution_count": 103,
     "metadata": {},
     "output_type": "execute_result"
    }
   ],
   "source": [
    "# 读取推断出的测试节点标签，进行替换\n",
    "import pickle as pkl\n",
    "with open(os.path.join(data_path, 'infer_nodes.pkl'), 'rb') as f:\n",
    "    infer_nodes = pkl.load(f)\n",
    "infer_test_idx = infer_nodes['test_idx']\n",
    "infer_test_label = infer_nodes['test_lab']\n",
    "infer_test_label.shape"
   ]
  },
  {
   "cell_type": "code",
   "execution_count": 102,
   "id": "1f415b89-6a28-41e6-aa57-fa9b72835525",
   "metadata": {},
   "outputs": [
    {
     "data": {
      "text/plain": [
       "10708"
      ]
     },
     "execution_count": 102,
     "metadata": {},
     "output_type": "execute_result"
    }
   ],
   "source": [
    "sum(test_pred[infer_test_idx - test_idx[0]] == infer_test_label)  # 被推断的结点中，使用模型预测的结果有多少与推断的相同"
   ]
  },
  {
   "cell_type": "code",
   "execution_count": 95,
   "id": "57e2eb21-1f74-4bd2-843f-31dc0a48e525",
   "metadata": {},
   "outputs": [],
   "source": [
    "test_pred[infer_test_idx - test_idx[0]] = infer_test_label  # 进行替换"
   ]
  },
  {
   "cell_type": "markdown",
   "id": "f72db6e1-e0c8-42e0-a95e-7918a2926124",
   "metadata": {},
   "source": [
    "## 生成提交"
   ]
  },
  {
   "cell_type": "code",
   "execution_count": 97,
   "id": "4eb0376f-d7b7-4c36-8bab-441c4e596124",
   "metadata": {},
   "outputs": [],
   "source": [
    "sub = pd.DataFrame({'id': ids, 'label': test_pred})"
   ]
  },
  {
   "cell_type": "code",
   "execution_count": 98,
   "id": "8d7cb892-c5d8-4f3b-b5c3-46c273e50459",
   "metadata": {},
   "outputs": [],
   "source": [
    "sub['label'] = sub['label'].apply(lambda x: LABELS[x])"
   ]
  },
  {
   "cell_type": "code",
   "execution_count": 99,
   "id": "cf259ecd-0324-438b-942c-dbbc3a156c9b",
   "metadata": {},
   "outputs": [
    {
     "data": {
      "text/html": [
       "<div>\n",
       "<style scoped>\n",
       "    .dataframe tbody tr th:only-of-type {\n",
       "        vertical-align: middle;\n",
       "    }\n",
       "\n",
       "    .dataframe tbody tr th {\n",
       "        vertical-align: top;\n",
       "    }\n",
       "\n",
       "    .dataframe thead th {\n",
       "        text-align: right;\n",
       "    }\n",
       "</style>\n",
       "<table border=\"1\" class=\"dataframe\">\n",
       "  <thead>\n",
       "    <tr style=\"text-align: right;\">\n",
       "      <th></th>\n",
       "      <th>id</th>\n",
       "      <th>label</th>\n",
       "    </tr>\n",
       "  </thead>\n",
       "  <tbody>\n",
       "    <tr>\n",
       "      <th>3063061</th>\n",
       "      <td>c39457cc34fa969b03819eaa4f9b7a52</td>\n",
       "      <td>D</td>\n",
       "    </tr>\n",
       "    <tr>\n",
       "      <th>3063062</th>\n",
       "      <td>668b9d0c53e9b6e2c6b1093102f976b3</td>\n",
       "      <td>N</td>\n",
       "    </tr>\n",
       "    <tr>\n",
       "      <th>3063063</th>\n",
       "      <td>ca5c7bc1b40c0ef3c3f864aed032ca90</td>\n",
       "      <td>G</td>\n",
       "    </tr>\n",
       "    <tr>\n",
       "      <th>3063064</th>\n",
       "      <td>44f810c0c000cda27ce618add55e815f</td>\n",
       "      <td>F</td>\n",
       "    </tr>\n",
       "    <tr>\n",
       "      <th>3063065</th>\n",
       "      <td>3c206335d88637d36d83c2942586be98</td>\n",
       "      <td>K</td>\n",
       "    </tr>\n",
       "    <tr>\n",
       "      <th>3063066</th>\n",
       "      <td>c380307ccc10012f0a2a28e82f596745</td>\n",
       "      <td>D</td>\n",
       "    </tr>\n",
       "    <tr>\n",
       "      <th>3063067</th>\n",
       "      <td>34954a463b1a3dc3b02efcf439c6dfcf</td>\n",
       "      <td>D</td>\n",
       "    </tr>\n",
       "    <tr>\n",
       "      <th>3063068</th>\n",
       "      <td>367437da3355555ef1420de6b03ff6a6</td>\n",
       "      <td>D</td>\n",
       "    </tr>\n",
       "    <tr>\n",
       "      <th>3063069</th>\n",
       "      <td>951be1a3e76e22c97d216be961a50abd</td>\n",
       "      <td>P</td>\n",
       "    </tr>\n",
       "    <tr>\n",
       "      <th>3063070</th>\n",
       "      <td>b2ea7f2f33ec16ba9d2b3ddd2af1f22c</td>\n",
       "      <td>P</td>\n",
       "    </tr>\n",
       "    <tr>\n",
       "      <th>3063071</th>\n",
       "      <td>27b4199bb1cd1507798c964a31911891</td>\n",
       "      <td>H</td>\n",
       "    </tr>\n",
       "    <tr>\n",
       "      <th>3063072</th>\n",
       "      <td>4fb6403b3105ebaddc20708c04505991</td>\n",
       "      <td>P</td>\n",
       "    </tr>\n",
       "    <tr>\n",
       "      <th>3063073</th>\n",
       "      <td>5c2b15e048f5ebc926ac459426456911</td>\n",
       "      <td>P</td>\n",
       "    </tr>\n",
       "    <tr>\n",
       "      <th>3063074</th>\n",
       "      <td>9fb6c0f98c0bbd5a12e91c3ee8acedd4</td>\n",
       "      <td>H</td>\n",
       "    </tr>\n",
       "    <tr>\n",
       "      <th>3063075</th>\n",
       "      <td>bf91f65ec3718bf51dc76083f10956e2</td>\n",
       "      <td>I</td>\n",
       "    </tr>\n",
       "  </tbody>\n",
       "</table>\n",
       "</div>"
      ],
      "text/plain": [
       "                                       id label\n",
       "3063061  c39457cc34fa969b03819eaa4f9b7a52     D\n",
       "3063062  668b9d0c53e9b6e2c6b1093102f976b3     N\n",
       "3063063  ca5c7bc1b40c0ef3c3f864aed032ca90     G\n",
       "3063064  44f810c0c000cda27ce618add55e815f     F\n",
       "3063065  3c206335d88637d36d83c2942586be98     K\n",
       "3063066  c380307ccc10012f0a2a28e82f596745     D\n",
       "3063067  34954a463b1a3dc3b02efcf439c6dfcf     D\n",
       "3063068  367437da3355555ef1420de6b03ff6a6     D\n",
       "3063069  951be1a3e76e22c97d216be961a50abd     P\n",
       "3063070  b2ea7f2f33ec16ba9d2b3ddd2af1f22c     P\n",
       "3063071  27b4199bb1cd1507798c964a31911891     H\n",
       "3063072  4fb6403b3105ebaddc20708c04505991     P\n",
       "3063073  5c2b15e048f5ebc926ac459426456911     P\n",
       "3063074  9fb6c0f98c0bbd5a12e91c3ee8acedd4     H\n",
       "3063075  bf91f65ec3718bf51dc76083f10956e2     I"
      ]
     },
     "execution_count": 99,
     "metadata": {},
     "output_type": "execute_result"
    }
   ],
   "source": [
    "sub.head(15)"
   ]
  },
  {
   "cell_type": "code",
   "execution_count": 100,
   "id": "a0dba49b-1ccd-4fa7-b03d-ce980fd434c1",
   "metadata": {},
   "outputs": [
    {
     "name": "stdout",
     "output_type": "stream",
     "text": [
      "Saved to ./output/experiment-2021-11-18-46422/model-best-val-acc-0.56798-1637331077.csv ...\n"
     ]
    }
   ],
   "source": [
    "fn = os.path.join(output_dir, f\"{'.'.join(model_name.split('.')[:-1])}-{int(time.time())}.csv\")\n",
    "sub.to_csv(fn, index=False)\n",
    "print(f\"Saved to {fn} ...\")"
   ]
  },
  {
   "cell_type": "code",
   "execution_count": null,
   "id": "e897bae4-b67b-468d-ad71-4730bcc8e41f",
   "metadata": {},
   "outputs": [],
   "source": []
  },
  {
   "cell_type": "markdown",
   "id": "5d4d34ce-faab-4bb1-9705-e48f470ea7cf",
   "metadata": {},
   "source": [
    "## CAN后处理"
   ]
  },
  {
   "cell_type": "code",
   "execution_count": null,
   "id": "727393ca-c454-4bf7-98f1-3f90f5a2344d",
   "metadata": {},
   "outputs": [],
   "source": [
    "from collections import Counter\n",
    "\n",
    "from utils import CAN"
   ]
  },
  {
   "cell_type": "code",
   "execution_count": null,
   "id": "a8f3a1d1-77b3-443e-a418-4fa25502313c",
   "metadata": {},
   "outputs": [],
   "source": [
    "t_labels = id_labels[~id_labels['Label'].isna()]['Label'].to_numpy()\n",
    "t_labels = Counter(t_labels)\n",
    "t_labels"
   ]
  },
  {
   "cell_type": "code",
   "execution_count": null,
   "id": "8c6c1093-804f-4244-83d8-a76ae4e25ca4",
   "metadata": {},
   "outputs": [],
   "source": [
    "prior = list(t_labels.items())\n",
    "prior.sort(key=lambda x: x[0])\n",
    "prior = np.array([e[1] for e in prior])\n",
    "prior = prior / sum(prior)\n",
    "prior"
   ]
  },
  {
   "cell_type": "code",
   "execution_count": null,
   "id": "dc74bd56-50f8-4dc6-90ce-680ecbb71ded",
   "metadata": {},
   "outputs": [],
   "source": [
    "tt = th.softmax(th.Tensor(test_logits), dim=1)"
   ]
  },
  {
   "cell_type": "code",
   "execution_count": null,
   "id": "f2859f8e-d602-4bfc-8c92-543362e8222e",
   "metadata": {},
   "outputs": [],
   "source": [
    "tt.data.numpy().shape"
   ]
  },
  {
   "cell_type": "code",
   "execution_count": null,
   "id": "91b001a2-4664-479e-b4d7-cc991a721f40",
   "metadata": {},
   "outputs": [],
   "source": [
    "(tt.max(axis=1).values >= 0.5).sum()"
   ]
  },
  {
   "cell_type": "code",
   "execution_count": 141,
   "id": "39476bbe-fd07-4898-8283-9329b844293a",
   "metadata": {
    "collapsed": true,
    "jupyter": {
     "outputs_hidden": true
    },
    "tags": []
   },
   "outputs": [
    {
     "name": "stdout",
     "output_type": "stream",
     "text": [
      "(251626, 23) (340346, 23)\n",
      "0\n",
      "10000\n",
      "20000\n",
      "30000\n",
      "40000\n",
      "50000\n",
      "60000\n",
      "70000\n",
      "80000\n",
      "90000\n",
      "100000\n",
      "110000\n",
      "120000\n",
      "130000\n",
      "140000\n",
      "150000\n",
      "160000\n",
      "170000\n",
      "180000\n",
      "190000\n",
      "200000\n",
      "210000\n",
      "220000\n",
      "230000\n",
      "240000\n",
      "250000\n",
      "260000\n",
      "270000\n",
      "280000\n",
      "290000\n",
      "300000\n",
      "310000\n",
      "320000\n",
      "330000\n",
      "340000\n",
      "CPU times: user 3h 57min 55s, sys: 5.11 s, total: 3h 58min\n",
      "Wall time: 3h 57min 53s\n"
     ]
    }
   ],
   "source": [
    "%%time\n",
    "# 太慢了\n",
    "adjusted = CAN(tt.data.numpy(), prior, tau=.8)"
   ]
  },
  {
   "cell_type": "code",
   "execution_count": 143,
   "id": "37e97ae0-d8e2-4ea9-a605-015e20b78a18",
   "metadata": {},
   "outputs": [
    {
     "data": {
      "text/plain": [
       "(591972, 23)"
      ]
     },
     "execution_count": 143,
     "metadata": {},
     "output_type": "execute_result"
    }
   ],
   "source": [
    "adjusted.shape"
   ]
  },
  {
   "cell_type": "code",
   "execution_count": null,
   "id": "54e757f2-c0c4-45bb-87ad-d0b57c7ff941",
   "metadata": {},
   "outputs": [],
   "source": []
  }
 ],
 "metadata": {
  "kernelspec": {
   "display_name": "Python 3 (ipykernel)",
   "language": "python",
   "name": "python3"
  },
  "language_info": {
   "codemirror_mode": {
    "name": "ipython",
    "version": 3
   },
   "file_extension": ".py",
   "mimetype": "text/x-python",
   "name": "python",
   "nbconvert_exporter": "python",
   "pygments_lexer": "ipython3",
   "version": "3.8.0"
  }
 },
 "nbformat": 4,
 "nbformat_minor": 5
}
