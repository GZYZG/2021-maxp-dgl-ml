{
 "cells": [
  {
   "cell_type": "code",
   "execution_count": 1,
   "id": "350af28e-77e0-4d38-a0cf-690afd1ba565",
   "metadata": {},
   "outputs": [
    {
     "name": "stderr",
     "output_type": "stream",
     "text": [
      "Using backend: pytorch\n"
     ]
    }
   ],
   "source": [
    "import dgl\n",
    "import os\n",
    "import time\n",
    "import pandas as pd\n",
    "import torch as th\n",
    "import torch.nn.functional as F\n",
    "import numpy as np\n",
    "from dgl.dataloading.neighbor import MultiLayerNeighborSampler\n",
    "from dgl.dataloading.pytorch import NodeDataLoader\n",
    "\n",
    "from models import GraphSageModel, GraphConvModel, GraphAttnModel\n",
    "from utils import load_dgl_graph, time_diff\n",
    "from model_train import load_subtensor"
   ]
  },
  {
   "cell_type": "code",
   "execution_count": 93,
   "id": "dab4abe1-b683-493c-9797-a224ff4fa035",
   "metadata": {},
   "outputs": [],
   "source": [
    "# paths\n",
    "output_dir = \"./output/experiment-2021-10-23-1694\"\n",
    "model_name = \"model-best-val-acc-0.523.pth\"\n",
    "data_path = \"../../dataset\"\n",
    "model_path = os.path.join(output_dir, model_name)"
   ]
  },
  {
   "cell_type": "code",
   "execution_count": 94,
   "id": "1520e2d1-a68f-4523-9ab7-6779306cf042",
   "metadata": {},
   "outputs": [],
   "source": [
    "# model settings\n",
    "gnn_model = \"graphsage\"\n",
    "in_feat = 300\n",
    "hidden_dim = 64 \n",
    "n_layers = 2\n",
    "fanouts = [20, 20]\n",
    "batch_size = 4096\n",
    "num_workers = 4\n",
    "device_id = 0\n",
    "\n",
    "n_classes = 23\n",
    "LABELS = [chr(ord('A')+i) for i in range(n_classes)]"
   ]
  },
  {
   "cell_type": "code",
   "execution_count": 95,
   "id": "950333a1-6863-4bd3-8c61-40582b6ffd46",
   "metadata": {},
   "outputs": [
    {
     "name": "stdout",
     "output_type": "stream",
     "text": [
      "################ Graph info: ###############\n",
      "Graph(num_nodes=3655452, num_edges=29168650,\n",
      "      ndata_schemes={}\n",
      "      edata_schemes={})\n",
      "################ Label info: ################\n",
      "Total labels (including not labeled): 3655452\n",
      "               Training label number: 939963\n",
      "             Validation label number: 104454\n",
      "                   Test label number: 592391\n",
      "################ Feature info: ###############\n",
      "Node's feature shape:torch.Size([3655452, 300])\n"
     ]
    }
   ],
   "source": [
    "# Retrieve preprocessed data and add reverse edge and self-loop\n",
    "graph, labels, train_nid, val_nid, test_nid, node_feat = load_dgl_graph(data_path)\n",
    "test_nid = test_nid[:591972]  # 只预测validation中的结点\n",
    "graph = dgl.to_bidirected(graph, copy_ndata=True)\n",
    "graph = dgl.add_self_loop(graph)"
   ]
  },
  {
   "cell_type": "code",
   "execution_count": 96,
   "id": "d2867716-0cd7-4817-8fdb-353316a9e86b",
   "metadata": {},
   "outputs": [],
   "source": [
    "sampler = MultiLayerNeighborSampler(fanouts)\n",
    "test_dataloader = NodeDataLoader(graph,\n",
    "                                  test_nid,\n",
    "                                  sampler,\n",
    "                                  batch_size=4096,  #len(test_nid),\n",
    "                                  shuffle=False,\n",
    "                                  drop_last=False,\n",
    "                                  num_workers=num_workers,\n",
    "                                  )"
   ]
  },
  {
   "cell_type": "code",
   "execution_count": 97,
   "id": "376b6b89-b315-45bb-a399-aa45791d250b",
   "metadata": {},
   "outputs": [],
   "source": [
    "if gnn_model == 'graphsage':\n",
    "    model = GraphSageModel(in_feat, hidden_dim, n_layers, n_classes)\n",
    "elif gnn_model == 'graphconv':\n",
    "    model = GraphConvModel(in_feat, hidden_dim, n_layers, n_classes,\n",
    "                           norm='both', activation=F.relu, dropout=0)\n",
    "elif gnn_model == 'graphattn':\n",
    "    model = GraphAttnModel(in_feat, hidden_dim, n_layers, n_classes,\n",
    "                           heads=([5] * n_layers), activation=F.relu, feat_drop=0, attn_drop=0)\n",
    "else:\n",
    "    raise NotImplementedError('So far, only support three algorithms: GraphSage, GraphConv, and GraphAttn')"
   ]
  },
  {
   "cell_type": "code",
   "execution_count": 98,
   "id": "275edbdd-8a48-4684-8cc4-0b7ad443d74e",
   "metadata": {},
   "outputs": [
    {
     "data": {
      "text/plain": [
       "GraphSageModel(\n",
       "  (dropout): Dropout(p=0, inplace=False)\n",
       "  (layers): ModuleList(\n",
       "    (0): SAGEConv(\n",
       "      (feat_drop): Dropout(p=0.0, inplace=False)\n",
       "      (fc_self): Linear(in_features=300, out_features=64, bias=False)\n",
       "      (fc_neigh): Linear(in_features=300, out_features=64, bias=False)\n",
       "    )\n",
       "    (1): SAGEConv(\n",
       "      (feat_drop): Dropout(p=0.0, inplace=False)\n",
       "      (fc_self): Linear(in_features=64, out_features=23, bias=False)\n",
       "      (fc_neigh): Linear(in_features=64, out_features=23, bias=False)\n",
       "    )\n",
       "  )\n",
       ")"
      ]
     },
     "execution_count": 98,
     "metadata": {},
     "output_type": "execute_result"
    }
   ],
   "source": [
    "# laod model parameters\n",
    "params = th.load(model_path)\n",
    "model.load_state_dict(params)\n",
    "model.to(device_id)"
   ]
  },
  {
   "cell_type": "code",
   "execution_count": 99,
   "id": "ddad6f66-f23c-48f5-9238-5f58b54c2f70",
   "metadata": {
    "tags": []
   },
   "outputs": [
    {
     "name": "stdout",
     "output_type": "stream",
     "text": [
      "Predict Done ...\n"
     ]
    }
   ],
   "source": [
    "model.eval()\n",
    "test_logits = np.zeros((0, 23))\n",
    "test_idx = []\n",
    "for step, (input_nodes, seeds, blocks) in enumerate(test_dataloader):\n",
    "    # forward\n",
    "    batch_inputs, batch_labels = load_subtensor(node_feat, labels, seeds, input_nodes, device_id)\n",
    "    blocks = [block.to(device_id) for block in blocks]\n",
    "    \n",
    "    test_batch_logits = model(blocks, batch_inputs)\n",
    "    test_batch_logits = test_batch_logits.cpu().detach().numpy()\n",
    "    test_logits = np.concatenate([test_logits, test_batch_logits], axis=0)\n",
    "    test_idx.extend(seeds.cpu().detach().tolist())\n",
    "    \n",
    "print(\"Predict Done ...\")"
   ]
  },
  {
   "cell_type": "code",
   "execution_count": 100,
   "id": "2deea12e-2e69-4c68-833d-9d28b4dc7da0",
   "metadata": {},
   "outputs": [
    {
     "name": "stderr",
     "output_type": "stream",
     "text": [
      "/home/gzy/.local/lib/python3.8/site-packages/IPython/core/interactiveshell.py:3169: DtypeWarning: Columns (2) have mixed types.Specify dtype option on import or set low_memory=False.\n",
      "  has_raised = await self.run_ast_nodes(code_ast.body, cell_name,\n"
     ]
    }
   ],
   "source": [
    "id_labels = pd.read_csv(\"../../dataset/IDandLabels.csv\")"
   ]
  },
  {
   "cell_type": "code",
   "execution_count": 101,
   "id": "c3904dcd-b12a-4baa-b94e-796bf9a9038b",
   "metadata": {
    "tags": []
   },
   "outputs": [
    {
     "data": {
      "text/html": [
       "<div>\n",
       "<style scoped>\n",
       "    .dataframe tbody tr th:only-of-type {\n",
       "        vertical-align: middle;\n",
       "    }\n",
       "\n",
       "    .dataframe tbody tr th {\n",
       "        vertical-align: top;\n",
       "    }\n",
       "\n",
       "    .dataframe thead th {\n",
       "        text-align: right;\n",
       "    }\n",
       "</style>\n",
       "<table border=\"1\" class=\"dataframe\">\n",
       "  <thead>\n",
       "    <tr style=\"text-align: right;\">\n",
       "      <th></th>\n",
       "      <th>node_idx</th>\n",
       "      <th>paper_id</th>\n",
       "      <th>Label</th>\n",
       "      <th>Split_ID</th>\n",
       "    </tr>\n",
       "  </thead>\n",
       "  <tbody>\n",
       "    <tr>\n",
       "      <th>3063061</th>\n",
       "      <td>3063061</td>\n",
       "      <td>c39457cc34fa969b03819eaa4f9b7a52</td>\n",
       "      <td>NaN</td>\n",
       "      <td>1</td>\n",
       "    </tr>\n",
       "    <tr>\n",
       "      <th>3063062</th>\n",
       "      <td>3063062</td>\n",
       "      <td>668b9d0c53e9b6e2c6b1093102f976b3</td>\n",
       "      <td>NaN</td>\n",
       "      <td>1</td>\n",
       "    </tr>\n",
       "    <tr>\n",
       "      <th>3063063</th>\n",
       "      <td>3063063</td>\n",
       "      <td>ca5c7bc1b40c0ef3c3f864aed032ca90</td>\n",
       "      <td>NaN</td>\n",
       "      <td>1</td>\n",
       "    </tr>\n",
       "    <tr>\n",
       "      <th>3063064</th>\n",
       "      <td>3063064</td>\n",
       "      <td>44f810c0c000cda27ce618add55e815f</td>\n",
       "      <td>NaN</td>\n",
       "      <td>1</td>\n",
       "    </tr>\n",
       "    <tr>\n",
       "      <th>3063065</th>\n",
       "      <td>3063065</td>\n",
       "      <td>3c206335d88637d36d83c2942586be98</td>\n",
       "      <td>NaN</td>\n",
       "      <td>1</td>\n",
       "    </tr>\n",
       "    <tr>\n",
       "      <th>...</th>\n",
       "      <td>...</td>\n",
       "      <td>...</td>\n",
       "      <td>...</td>\n",
       "      <td>...</td>\n",
       "    </tr>\n",
       "    <tr>\n",
       "      <th>3655028</th>\n",
       "      <td>3655028</td>\n",
       "      <td>5e231ec5d4167c541055092ee6e65a74</td>\n",
       "      <td>NaN</td>\n",
       "      <td>1</td>\n",
       "    </tr>\n",
       "    <tr>\n",
       "      <th>3655029</th>\n",
       "      <td>3655029</td>\n",
       "      <td>25f30607d6bfd52ca2780d8ea928e77e</td>\n",
       "      <td>NaN</td>\n",
       "      <td>1</td>\n",
       "    </tr>\n",
       "    <tr>\n",
       "      <th>3655030</th>\n",
       "      <td>3655030</td>\n",
       "      <td>703abf983edaaef1d34091eabb4ffd20</td>\n",
       "      <td>NaN</td>\n",
       "      <td>1</td>\n",
       "    </tr>\n",
       "    <tr>\n",
       "      <th>3655031</th>\n",
       "      <td>3655031</td>\n",
       "      <td>d051d9bec90a57152776fc5e9b08e5b2</td>\n",
       "      <td>NaN</td>\n",
       "      <td>1</td>\n",
       "    </tr>\n",
       "    <tr>\n",
       "      <th>3655032</th>\n",
       "      <td>3655032</td>\n",
       "      <td>6f320571453737210aa7c91068cd3813</td>\n",
       "      <td>NaN</td>\n",
       "      <td>1</td>\n",
       "    </tr>\n",
       "  </tbody>\n",
       "</table>\n",
       "<p>591972 rows × 4 columns</p>\n",
       "</div>"
      ],
      "text/plain": [
       "         node_idx                          paper_id Label  Split_ID\n",
       "3063061   3063061  c39457cc34fa969b03819eaa4f9b7a52   NaN         1\n",
       "3063062   3063062  668b9d0c53e9b6e2c6b1093102f976b3   NaN         1\n",
       "3063063   3063063  ca5c7bc1b40c0ef3c3f864aed032ca90   NaN         1\n",
       "3063064   3063064  44f810c0c000cda27ce618add55e815f   NaN         1\n",
       "3063065   3063065  3c206335d88637d36d83c2942586be98   NaN         1\n",
       "...           ...                               ...   ...       ...\n",
       "3655028   3655028  5e231ec5d4167c541055092ee6e65a74   NaN         1\n",
       "3655029   3655029  25f30607d6bfd52ca2780d8ea928e77e   NaN         1\n",
       "3655030   3655030  703abf983edaaef1d34091eabb4ffd20   NaN         1\n",
       "3655031   3655031  d051d9bec90a57152776fc5e9b08e5b2   NaN         1\n",
       "3655032   3655032  6f320571453737210aa7c91068cd3813   NaN         1\n",
       "\n",
       "[591972 rows x 4 columns]"
      ]
     },
     "execution_count": 101,
     "metadata": {},
     "output_type": "execute_result"
    }
   ],
   "source": [
    "id_labels.loc[test_idx]"
   ]
  },
  {
   "cell_type": "code",
   "execution_count": 102,
   "id": "b9ab28f7-fd9c-44bf-92af-6a5b17d9bb3b",
   "metadata": {},
   "outputs": [],
   "source": [
    "ids = id_labels.loc[test_idx]['paper_id']\n",
    "test_pred = test_logits.argmax(axis=1)"
   ]
  },
  {
   "cell_type": "code",
   "execution_count": 103,
   "id": "4eb0376f-d7b7-4c36-8bab-441c4e596124",
   "metadata": {},
   "outputs": [],
   "source": [
    "sub = pd.DataFrame({'id': ids, 'label': test_pred})"
   ]
  },
  {
   "cell_type": "code",
   "execution_count": 104,
   "id": "8d7cb892-c5d8-4f3b-b5c3-46c273e50459",
   "metadata": {},
   "outputs": [],
   "source": [
    "sub['label'] = sub['label'].apply(lambda x: LABELS[x])"
   ]
  },
  {
   "cell_type": "code",
   "execution_count": 105,
   "id": "cf259ecd-0324-438b-942c-dbbc3a156c9b",
   "metadata": {},
   "outputs": [
    {
     "data": {
      "text/html": [
       "<div>\n",
       "<style scoped>\n",
       "    .dataframe tbody tr th:only-of-type {\n",
       "        vertical-align: middle;\n",
       "    }\n",
       "\n",
       "    .dataframe tbody tr th {\n",
       "        vertical-align: top;\n",
       "    }\n",
       "\n",
       "    .dataframe thead th {\n",
       "        text-align: right;\n",
       "    }\n",
       "</style>\n",
       "<table border=\"1\" class=\"dataframe\">\n",
       "  <thead>\n",
       "    <tr style=\"text-align: right;\">\n",
       "      <th></th>\n",
       "      <th>id</th>\n",
       "      <th>label</th>\n",
       "    </tr>\n",
       "  </thead>\n",
       "  <tbody>\n",
       "    <tr>\n",
       "      <th>3063061</th>\n",
       "      <td>c39457cc34fa969b03819eaa4f9b7a52</td>\n",
       "      <td>D</td>\n",
       "    </tr>\n",
       "    <tr>\n",
       "      <th>3063062</th>\n",
       "      <td>668b9d0c53e9b6e2c6b1093102f976b3</td>\n",
       "      <td>N</td>\n",
       "    </tr>\n",
       "    <tr>\n",
       "      <th>3063063</th>\n",
       "      <td>ca5c7bc1b40c0ef3c3f864aed032ca90</td>\n",
       "      <td>R</td>\n",
       "    </tr>\n",
       "    <tr>\n",
       "      <th>3063064</th>\n",
       "      <td>44f810c0c000cda27ce618add55e815f</td>\n",
       "      <td>F</td>\n",
       "    </tr>\n",
       "    <tr>\n",
       "      <th>3063065</th>\n",
       "      <td>3c206335d88637d36d83c2942586be98</td>\n",
       "      <td>L</td>\n",
       "    </tr>\n",
       "  </tbody>\n",
       "</table>\n",
       "</div>"
      ],
      "text/plain": [
       "                                       id label\n",
       "3063061  c39457cc34fa969b03819eaa4f9b7a52     D\n",
       "3063062  668b9d0c53e9b6e2c6b1093102f976b3     N\n",
       "3063063  ca5c7bc1b40c0ef3c3f864aed032ca90     R\n",
       "3063064  44f810c0c000cda27ce618add55e815f     F\n",
       "3063065  3c206335d88637d36d83c2942586be98     L"
      ]
     },
     "execution_count": 105,
     "metadata": {},
     "output_type": "execute_result"
    }
   ],
   "source": [
    "sub.head(5)"
   ]
  },
  {
   "cell_type": "code",
   "execution_count": 106,
   "id": "a0dba49b-1ccd-4fa7-b03d-ce980fd434c1",
   "metadata": {},
   "outputs": [
    {
     "name": "stdout",
     "output_type": "stream",
     "text": [
      "Saved to ./output/experiment-2021-10-23-1694/model-best-val-acc-0-1635056614.csv ...\n"
     ]
    }
   ],
   "source": [
    "fn = os.path.join(output_dir, f\"{'.'.join(model_name.split('.')[:-1])}-{int(time.time())}.csv\")\n",
    "sub.to_csv(fn, index=False)\n",
    "print(f\"Saved to {fn} ...\")"
   ]
  },
  {
   "cell_type": "code",
   "execution_count": 108,
   "id": "7dc23f4a-5ff2-4e85-9dc9-137493b6bca7",
   "metadata": {},
   "outputs": [
    {
     "data": {
      "text/plain": [
       "'model-best-val-acc-0.523'"
      ]
     },
     "execution_count": 108,
     "metadata": {},
     "output_type": "execute_result"
    }
   ],
   "source": []
  },
  {
   "cell_type": "code",
   "execution_count": null,
   "id": "07cf1924-1884-4930-a5e3-3f7a8bf9be0b",
   "metadata": {},
   "outputs": [],
   "source": []
  }
 ],
 "metadata": {
  "kernelspec": {
   "display_name": "Python 3 (ipykernel)",
   "language": "python",
   "name": "python3"
  },
  "language_info": {
   "codemirror_mode": {
    "name": "ipython",
    "version": 3
   },
   "file_extension": ".py",
   "mimetype": "text/x-python",
   "name": "python",
   "nbconvert_exporter": "python",
   "pygments_lexer": "ipython3",
   "version": "3.8.0"
  }
 },
 "nbformat": 4,
 "nbformat_minor": 5
}
