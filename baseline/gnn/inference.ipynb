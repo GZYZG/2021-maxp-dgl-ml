{
 "cells": [
  {
   "cell_type": "code",
   "execution_count": 1,
   "id": "350af28e-77e0-4d38-a0cf-690afd1ba565",
   "metadata": {},
   "outputs": [
    {
     "name": "stderr",
     "output_type": "stream",
     "text": [
      "Using backend: pytorch\n"
     ]
    }
   ],
   "source": [
    "import dgl\n",
    "import os\n",
    "import time\n",
    "import pandas as pd\n",
    "import torch as th\n",
    "import torch.nn.functional as F\n",
    "import numpy as np\n",
    "from dgl.dataloading.neighbor import MultiLayerNeighborSampler\n",
    "from dgl.dataloading.pytorch import NodeDataLoader\n",
    "\n",
    "from models import GraphSageModel, GraphConvModel, GraphAttnModel\n",
    "from utils import load_dgl_graph, time_diff\n",
    "from model_train import load_subtensor"
   ]
  },
  {
   "cell_type": "code",
   "execution_count": 2,
   "id": "dab4abe1-b683-493c-9797-a224ff4fa035",
   "metadata": {},
   "outputs": [],
   "source": [
    "# paths\n",
    "output_dir = \"./output\"\n",
    "model_name = \"dgl_model-050209.pth\"\n",
    "data_path = \"../../dataset\"\n",
    "model_path = os.path.join(output_dir, model_name)"
   ]
  },
  {
   "cell_type": "code",
   "execution_count": 3,
   "id": "1520e2d1-a68f-4523-9ab7-6779306cf042",
   "metadata": {},
   "outputs": [],
   "source": [
    "# model settings\n",
    "gnn_model = \"graphsage\"\n",
    "in_feat = 300\n",
    "hidden_dim = 64 \n",
    "n_layers = 2\n",
    "fanouts = [20, 20]\n",
    "batch_size = 4096\n",
    "num_workers = 4\n",
    "device_id = 0\n",
    "\n",
    "n_classes = 23\n",
    "LABELS = [chr(ord('A')+i) for i in range(n_classes)]"
   ]
  },
  {
   "cell_type": "code",
   "execution_count": 4,
   "id": "950333a1-6863-4bd3-8c61-40582b6ffd46",
   "metadata": {},
   "outputs": [
    {
     "name": "stdout",
     "output_type": "stream",
     "text": [
      "################ Graph info: ###############\n",
      "Graph(num_nodes=3655452, num_edges=29168650,\n",
      "      ndata_schemes={}\n",
      "      edata_schemes={})\n",
      "################ Label info: ################\n",
      "Total labels (including not labeled): 3655452\n",
      "               Training label number: 939963\n",
      "             Validation label number: 104454\n",
      "                   Test label number: 592391\n",
      "################ Feature info: ###############\n",
      "Node's feature shape:torch.Size([3655452, 300])\n"
     ]
    }
   ],
   "source": [
    "# Retrieve preprocessed data and add reverse edge and self-loop\n",
    "graph, labels, train_nid, val_nid, test_nid, node_feat = load_dgl_graph(data_path)\n",
    "test_nid = test_nid[:591972]  # 只预测validation中的结点\n",
    "graph = dgl.to_bidirected(graph, copy_ndata=True)\n",
    "graph = dgl.add_self_loop(graph)"
   ]
  },
  {
   "cell_type": "code",
   "execution_count": 5,
   "id": "d2867716-0cd7-4817-8fdb-353316a9e86b",
   "metadata": {},
   "outputs": [],
   "source": [
    "sampler = MultiLayerNeighborSampler(fanouts)\n",
    "test_dataloader = NodeDataLoader(graph,\n",
    "                                  test_nid,\n",
    "                                  sampler,\n",
    "                                  batch_size=4096,  #len(test_nid),\n",
    "                                  shuffle=False,\n",
    "                                  drop_last=False,\n",
    "                                  num_workers=num_workers,\n",
    "                                  )"
   ]
  },
  {
   "cell_type": "code",
   "execution_count": 6,
   "id": "376b6b89-b315-45bb-a399-aa45791d250b",
   "metadata": {},
   "outputs": [],
   "source": [
    "if gnn_model == 'graphsage':\n",
    "    model = GraphSageModel(in_feat, hidden_dim, n_layers, n_classes)\n",
    "elif gnn_model == 'graphconv':\n",
    "    model = GraphConvModel(in_feat, hidden_dim, n_layers, n_classes,\n",
    "                           norm='both', activation=F.relu, dropout=0)\n",
    "elif gnn_model == 'graphattn':\n",
    "    model = GraphAttnModel(in_feat, hidden_dim, n_layers, n_classes,\n",
    "                           heads=([5] * n_layers), activation=F.relu, feat_drop=0, attn_drop=0)\n",
    "else:\n",
    "    raise NotImplementedError('So far, only support three algorithms: GraphSage, GraphConv, and GraphAttn')"
   ]
  },
  {
   "cell_type": "code",
   "execution_count": 7,
   "id": "275edbdd-8a48-4684-8cc4-0b7ad443d74e",
   "metadata": {},
   "outputs": [
    {
     "data": {
      "text/plain": [
       "GraphSageModel(\n",
       "  (dropout): Dropout(p=0, inplace=False)\n",
       "  (layers): ModuleList(\n",
       "    (0): SAGEConv(\n",
       "      (feat_drop): Dropout(p=0.0, inplace=False)\n",
       "      (fc_self): Linear(in_features=300, out_features=64, bias=False)\n",
       "      (fc_neigh): Linear(in_features=300, out_features=64, bias=False)\n",
       "    )\n",
       "    (1): SAGEConv(\n",
       "      (feat_drop): Dropout(p=0.0, inplace=False)\n",
       "      (fc_self): Linear(in_features=64, out_features=23, bias=False)\n",
       "      (fc_neigh): Linear(in_features=64, out_features=23, bias=False)\n",
       "    )\n",
       "  )\n",
       ")"
      ]
     },
     "execution_count": 7,
     "metadata": {},
     "output_type": "execute_result"
    }
   ],
   "source": [
    "# laod model parameters\n",
    "params = th.load(model_path)\n",
    "model.load_state_dict(params)\n",
    "model.to(device_id)"
   ]
  },
  {
   "cell_type": "code",
   "execution_count": 8,
   "id": "7f5ce68c-222d-4ff7-8f42-847395ccc6d0",
   "metadata": {},
   "outputs": [
    {
     "data": {
      "text/plain": [
       "OrderedDict([('layers.0.bias',\n",
       "              tensor([-1.6053e-04, -1.2661e-01,  1.1577e-01,  8.1454e-02,  1.1202e-16,\n",
       "                      -8.2123e-02,  6.0600e-21, -4.9924e-02, -8.9093e-04,  3.8515e-03,\n",
       "                       6.1526e-21,  8.0328e-02,  1.1877e-01, -8.0759e-02,  1.5362e-01,\n",
       "                      -5.3045e-02, -6.0130e-09, -7.7020e-02, -1.3462e-26,  4.1524e-02,\n",
       "                      -4.5408e-02, -2.3769e-09,  1.8123e-01, -1.8914e-03,  3.7505e-02,\n",
       "                      -3.2464e-05, -9.8734e-19, -4.9531e-05,  4.6594e-02,  5.8769e-02,\n",
       "                       2.8780e-02, -2.4952e-04, -3.3331e-03,  5.3409e-02, -2.6049e-02,\n",
       "                       2.5078e-01,  1.0315e-02,  4.7567e-03,  1.2868e-02,  1.6427e-23,\n",
       "                      -5.1854e-04,  7.6662e-02, -1.9763e-04,  9.6050e-02,  1.1526e-01,\n",
       "                      -3.7025e-02, -7.9892e-02,  7.6617e-02,  1.7164e-02,  8.2834e-02,\n",
       "                      -8.8679e-05, -2.6208e-02,  1.8938e-01,  3.4602e-02, -4.2911e-02,\n",
       "                      -5.4912e-02,  8.8723e-02,  1.2644e-01,  5.5059e-02,  6.3741e-02,\n",
       "                      -1.3413e-04, -4.3268e-06, -2.9188e-02,  1.1612e-01], device='cuda:0')),\n",
       "             ('layers.0.fc_self.weight',\n",
       "              tensor([[-5.4033e-06, -1.2908e-05, -2.5424e-05,  ..., -3.7011e-05,\n",
       "                        1.9829e-06, -1.6245e-06],\n",
       "                      [-8.4975e-02, -5.0454e-03, -6.7712e-02,  ...,  1.0602e-01,\n",
       "                        4.1591e-04, -6.9301e-02],\n",
       "                      [ 2.7286e-03, -1.3405e-01, -1.6952e-02,  ...,  8.2217e-02,\n",
       "                        1.0965e-01,  4.5649e-03],\n",
       "                      ...,\n",
       "                      [ 5.5270e-07, -6.0607e-07, -3.9137e-07,  ..., -1.2164e-07,\n",
       "                       -5.6502e-07, -1.3796e-07],\n",
       "                      [-1.0510e-01, -1.3274e-01, -1.0986e-02,  ...,  8.4015e-02,\n",
       "                       -4.6254e-02,  2.3506e-02],\n",
       "                      [-6.6730e-02, -4.7722e-02,  1.8912e-02,  ..., -9.7343e-02,\n",
       "                       -2.9819e-02,  2.9591e-04]], device='cuda:0')),\n",
       "             ('layers.0.fc_neigh.weight',\n",
       "              tensor([[-9.2301e-06, -1.7819e-05, -3.0778e-05,  ..., -1.8755e-05,\n",
       "                       -2.1718e-06, -3.3248e-07],\n",
       "                      [-1.4108e-01, -7.6852e-02, -7.0257e-02,  ...,  1.2424e-01,\n",
       "                       -1.0566e-02, -2.6095e-01],\n",
       "                      [-4.3601e-02, -2.5486e-01, -2.2174e-02,  ...,  1.4107e-01,\n",
       "                        1.4071e-01, -1.1302e-02],\n",
       "                      ...,\n",
       "                      [ 8.8150e-07, -5.3888e-07, -4.0949e-07,  ..., -1.9666e-07,\n",
       "                       -4.9032e-07, -1.9429e-07],\n",
       "                      [-1.5472e-01, -2.1626e-01, -1.8167e-01,  ..., -1.4634e-02,\n",
       "                       -6.3087e-02, -3.4010e-02],\n",
       "                      [-3.1192e-02,  3.5868e-04,  1.9984e-01,  ..., -9.4408e-02,\n",
       "                       -5.2981e-03, -3.6972e-02]], device='cuda:0')),\n",
       "             ('layers.1.bias',\n",
       "              tensor([-1.0087e-01,  7.4175e-02,  8.3358e-02,  9.6304e-03,  2.9974e-02,\n",
       "                       2.5206e-02,  9.6315e-02, -2.1918e-01, -1.6077e-02, -1.1304e-02,\n",
       "                      -9.4479e-02, -3.5836e-02,  6.0355e-02, -1.3241e-01,  5.4068e-02,\n",
       "                      -1.1133e-01, -3.2014e-02, -4.4064e-05,  1.0816e-01,  1.1695e-01,\n",
       "                       1.6633e-01, -3.5746e-02, -5.2190e-02], device='cuda:0')),\n",
       "             ('layers.1.fc_self.weight',\n",
       "              tensor([[-4.8715e-08, -1.1610e-01, -1.3500e-01,  ..., -3.6249e-07,\n",
       "                       -1.4128e-01,  2.9190e-01],\n",
       "                      [ 5.0953e-04,  1.5205e-01,  5.2658e-02,  ..., -2.3227e-06,\n",
       "                        6.9283e-01, -5.6256e-03],\n",
       "                      [ 4.0158e-04,  7.7288e-02,  6.1682e-02,  ..., -1.4328e-06,\n",
       "                       -1.7832e-01,  9.0569e-02],\n",
       "                      ...,\n",
       "                      [-3.4461e-06, -6.2559e-02, -3.6945e-03,  ...,  3.3181e-06,\n",
       "                       -1.4969e-01,  8.1313e-02],\n",
       "                      [-8.7250e-06, -2.9672e-01, -5.8021e-01,  ...,  4.3192e-07,\n",
       "                        4.5414e-02,  4.1887e-02],\n",
       "                      [-1.7098e-07,  1.3792e-01, -1.2577e-01,  ..., -1.1933e-06,\n",
       "                       -6.1892e-02,  1.0677e-01]], device='cuda:0')),\n",
       "             ('layers.1.fc_neigh.weight',\n",
       "              tensor([[-3.8864e-08, -1.1779e-01, -1.8912e-01,  ..., -3.1891e-07,\n",
       "                       -1.5851e-01,  3.1376e-01],\n",
       "                      [ 5.0500e-04,  9.8713e-01,  3.0736e-01,  ..., -2.0034e-06,\n",
       "                        9.1971e-01, -2.9000e-01],\n",
       "                      [ 4.4101e-04,  2.4062e-01,  7.5460e-02,  ..., -1.9016e-06,\n",
       "                       -3.7653e-01,  1.4682e-01],\n",
       "                      ...,\n",
       "                      [-2.6516e-06, -2.3317e-01, -5.3624e-02,  ...,  3.4381e-06,\n",
       "                       -1.9804e-01,  1.7259e-01],\n",
       "                      [-1.1570e-05, -5.0526e-01, -9.4133e-01,  ...,  7.1553e-07,\n",
       "                        2.9189e-02,  6.2638e-03],\n",
       "                      [-8.1568e-08,  1.1764e-01,  1.9518e-03,  ..., -1.3558e-06,\n",
       "                       -1.2624e-01,  2.0686e-01]], device='cuda:0'))])"
      ]
     },
     "execution_count": 8,
     "metadata": {},
     "output_type": "execute_result"
    }
   ],
   "source": [
    "params"
   ]
  },
  {
   "cell_type": "code",
   "execution_count": 9,
   "id": "ddad6f66-f23c-48f5-9238-5f58b54c2f70",
   "metadata": {
    "tags": []
   },
   "outputs": [
    {
     "name": "stdout",
     "output_type": "stream",
     "text": [
      "Predict Done ...\n"
     ]
    }
   ],
   "source": [
    "model.eval()\n",
    "test_logits = np.zeros((0, 23))\n",
    "test_idx = []\n",
    "for step, (input_nodes, seeds, blocks) in enumerate(test_dataloader):\n",
    "    # forward\n",
    "    batch_inputs, batch_labels = load_subtensor(node_feat, labels, seeds, input_nodes, device_id)\n",
    "    blocks = [block.to(device_id) for block in blocks]\n",
    "    \n",
    "    test_batch_logits = model(blocks, batch_inputs)\n",
    "    test_batch_logits = test_batch_logits.cpu().detach().numpy()\n",
    "    test_logits = np.concatenate([test_logits, test_batch_logits], axis=0)\n",
    "    test_idx.extend(seeds.cpu().detach().tolist())\n",
    "print(\"Predict Done ...\")"
   ]
  },
  {
   "cell_type": "code",
   "execution_count": 10,
   "id": "2deea12e-2e69-4c68-833d-9d28b4dc7da0",
   "metadata": {},
   "outputs": [
    {
     "name": "stderr",
     "output_type": "stream",
     "text": [
      "/home/gzy/.local/lib/python3.8/site-packages/IPython/core/interactiveshell.py:3169: DtypeWarning: Columns (2) have mixed types.Specify dtype option on import or set low_memory=False.\n",
      "  has_raised = await self.run_ast_nodes(code_ast.body, cell_name,\n"
     ]
    }
   ],
   "source": [
    "id_labels = pd.read_csv(\"../../dataset/IDandLabels.csv\")"
   ]
  },
  {
   "cell_type": "code",
   "execution_count": 11,
   "id": "c3904dcd-b12a-4baa-b94e-796bf9a9038b",
   "metadata": {
    "tags": []
   },
   "outputs": [
    {
     "data": {
      "text/html": [
       "<div>\n",
       "<style scoped>\n",
       "    .dataframe tbody tr th:only-of-type {\n",
       "        vertical-align: middle;\n",
       "    }\n",
       "\n",
       "    .dataframe tbody tr th {\n",
       "        vertical-align: top;\n",
       "    }\n",
       "\n",
       "    .dataframe thead th {\n",
       "        text-align: right;\n",
       "    }\n",
       "</style>\n",
       "<table border=\"1\" class=\"dataframe\">\n",
       "  <thead>\n",
       "    <tr style=\"text-align: right;\">\n",
       "      <th></th>\n",
       "      <th>node_idx</th>\n",
       "      <th>paper_id</th>\n",
       "      <th>Label</th>\n",
       "      <th>Split_ID</th>\n",
       "    </tr>\n",
       "  </thead>\n",
       "  <tbody>\n",
       "    <tr>\n",
       "      <th>3063061</th>\n",
       "      <td>3063061</td>\n",
       "      <td>c39457cc34fa969b03819eaa4f9b7a52</td>\n",
       "      <td>NaN</td>\n",
       "      <td>1</td>\n",
       "    </tr>\n",
       "    <tr>\n",
       "      <th>3063062</th>\n",
       "      <td>3063062</td>\n",
       "      <td>668b9d0c53e9b6e2c6b1093102f976b3</td>\n",
       "      <td>NaN</td>\n",
       "      <td>1</td>\n",
       "    </tr>\n",
       "    <tr>\n",
       "      <th>3063063</th>\n",
       "      <td>3063063</td>\n",
       "      <td>ca5c7bc1b40c0ef3c3f864aed032ca90</td>\n",
       "      <td>NaN</td>\n",
       "      <td>1</td>\n",
       "    </tr>\n",
       "    <tr>\n",
       "      <th>3063064</th>\n",
       "      <td>3063064</td>\n",
       "      <td>44f810c0c000cda27ce618add55e815f</td>\n",
       "      <td>NaN</td>\n",
       "      <td>1</td>\n",
       "    </tr>\n",
       "    <tr>\n",
       "      <th>3063065</th>\n",
       "      <td>3063065</td>\n",
       "      <td>3c206335d88637d36d83c2942586be98</td>\n",
       "      <td>NaN</td>\n",
       "      <td>1</td>\n",
       "    </tr>\n",
       "    <tr>\n",
       "      <th>...</th>\n",
       "      <td>...</td>\n",
       "      <td>...</td>\n",
       "      <td>...</td>\n",
       "      <td>...</td>\n",
       "    </tr>\n",
       "    <tr>\n",
       "      <th>3655028</th>\n",
       "      <td>3655028</td>\n",
       "      <td>5e231ec5d4167c541055092ee6e65a74</td>\n",
       "      <td>NaN</td>\n",
       "      <td>1</td>\n",
       "    </tr>\n",
       "    <tr>\n",
       "      <th>3655029</th>\n",
       "      <td>3655029</td>\n",
       "      <td>25f30607d6bfd52ca2780d8ea928e77e</td>\n",
       "      <td>NaN</td>\n",
       "      <td>1</td>\n",
       "    </tr>\n",
       "    <tr>\n",
       "      <th>3655030</th>\n",
       "      <td>3655030</td>\n",
       "      <td>703abf983edaaef1d34091eabb4ffd20</td>\n",
       "      <td>NaN</td>\n",
       "      <td>1</td>\n",
       "    </tr>\n",
       "    <tr>\n",
       "      <th>3655031</th>\n",
       "      <td>3655031</td>\n",
       "      <td>d051d9bec90a57152776fc5e9b08e5b2</td>\n",
       "      <td>NaN</td>\n",
       "      <td>1</td>\n",
       "    </tr>\n",
       "    <tr>\n",
       "      <th>3655032</th>\n",
       "      <td>3655032</td>\n",
       "      <td>6f320571453737210aa7c91068cd3813</td>\n",
       "      <td>NaN</td>\n",
       "      <td>1</td>\n",
       "    </tr>\n",
       "  </tbody>\n",
       "</table>\n",
       "<p>591972 rows × 4 columns</p>\n",
       "</div>"
      ],
      "text/plain": [
       "         node_idx                          paper_id Label  Split_ID\n",
       "3063061   3063061  c39457cc34fa969b03819eaa4f9b7a52   NaN         1\n",
       "3063062   3063062  668b9d0c53e9b6e2c6b1093102f976b3   NaN         1\n",
       "3063063   3063063  ca5c7bc1b40c0ef3c3f864aed032ca90   NaN         1\n",
       "3063064   3063064  44f810c0c000cda27ce618add55e815f   NaN         1\n",
       "3063065   3063065  3c206335d88637d36d83c2942586be98   NaN         1\n",
       "...           ...                               ...   ...       ...\n",
       "3655028   3655028  5e231ec5d4167c541055092ee6e65a74   NaN         1\n",
       "3655029   3655029  25f30607d6bfd52ca2780d8ea928e77e   NaN         1\n",
       "3655030   3655030  703abf983edaaef1d34091eabb4ffd20   NaN         1\n",
       "3655031   3655031  d051d9bec90a57152776fc5e9b08e5b2   NaN         1\n",
       "3655032   3655032  6f320571453737210aa7c91068cd3813   NaN         1\n",
       "\n",
       "[591972 rows x 4 columns]"
      ]
     },
     "execution_count": 11,
     "metadata": {},
     "output_type": "execute_result"
    }
   ],
   "source": [
    "id_labels.loc[test_idx]"
   ]
  },
  {
   "cell_type": "code",
   "execution_count": 13,
   "id": "b9ab28f7-fd9c-44bf-92af-6a5b17d9bb3b",
   "metadata": {},
   "outputs": [],
   "source": [
    "ids = id_labels.loc[test_idx]['paper_id']\n",
    "test_pred = test_logits.argmin(axis=1)"
   ]
  },
  {
   "cell_type": "code",
   "execution_count": 22,
   "id": "4eb0376f-d7b7-4c36-8bab-441c4e596124",
   "metadata": {},
   "outputs": [],
   "source": [
    "sub = pd.DataFrame({'id': ids, 'label': test_pred})"
   ]
  },
  {
   "cell_type": "code",
   "execution_count": 23,
   "id": "8d7cb892-c5d8-4f3b-b5c3-46c273e50459",
   "metadata": {},
   "outputs": [],
   "source": [
    "sub['label'] = sub['label'].apply(lambda x: LABELS[x])"
   ]
  },
  {
   "cell_type": "code",
   "execution_count": 24,
   "id": "cf259ecd-0324-438b-942c-dbbc3a156c9b",
   "metadata": {},
   "outputs": [
    {
     "data": {
      "text/html": [
       "<div>\n",
       "<style scoped>\n",
       "    .dataframe tbody tr th:only-of-type {\n",
       "        vertical-align: middle;\n",
       "    }\n",
       "\n",
       "    .dataframe tbody tr th {\n",
       "        vertical-align: top;\n",
       "    }\n",
       "\n",
       "    .dataframe thead th {\n",
       "        text-align: right;\n",
       "    }\n",
       "</style>\n",
       "<table border=\"1\" class=\"dataframe\">\n",
       "  <thead>\n",
       "    <tr style=\"text-align: right;\">\n",
       "      <th></th>\n",
       "      <th>id</th>\n",
       "      <th>label</th>\n",
       "    </tr>\n",
       "  </thead>\n",
       "  <tbody>\n",
       "    <tr>\n",
       "      <th>3063061</th>\n",
       "      <td>c39457cc34fa969b03819eaa4f9b7a52</td>\n",
       "      <td>I</td>\n",
       "    </tr>\n",
       "    <tr>\n",
       "      <th>3063062</th>\n",
       "      <td>668b9d0c53e9b6e2c6b1093102f976b3</td>\n",
       "      <td>C</td>\n",
       "    </tr>\n",
       "    <tr>\n",
       "      <th>3063063</th>\n",
       "      <td>ca5c7bc1b40c0ef3c3f864aed032ca90</td>\n",
       "      <td>C</td>\n",
       "    </tr>\n",
       "    <tr>\n",
       "      <th>3063064</th>\n",
       "      <td>44f810c0c000cda27ce618add55e815f</td>\n",
       "      <td>C</td>\n",
       "    </tr>\n",
       "    <tr>\n",
       "      <th>3063065</th>\n",
       "      <td>3c206335d88637d36d83c2942586be98</td>\n",
       "      <td>K</td>\n",
       "    </tr>\n",
       "  </tbody>\n",
       "</table>\n",
       "</div>"
      ],
      "text/plain": [
       "                                       id label\n",
       "3063061  c39457cc34fa969b03819eaa4f9b7a52     I\n",
       "3063062  668b9d0c53e9b6e2c6b1093102f976b3     C\n",
       "3063063  ca5c7bc1b40c0ef3c3f864aed032ca90     C\n",
       "3063064  44f810c0c000cda27ce618add55e815f     C\n",
       "3063065  3c206335d88637d36d83c2942586be98     K"
      ]
     },
     "execution_count": 24,
     "metadata": {},
     "output_type": "execute_result"
    }
   ],
   "source": [
    "sub.head(5)"
   ]
  },
  {
   "cell_type": "code",
   "execution_count": 25,
   "id": "a0dba49b-1ccd-4fa7-b03d-ce980fd434c1",
   "metadata": {},
   "outputs": [
    {
     "name": "stdout",
     "output_type": "stream",
     "text": [
      "Saved to ./output/submits/dgl_model-050209-1634698425.csv ...\n"
     ]
    }
   ],
   "source": [
    "fn = os.path.join(output_dir, f\"submits/{model_name.split('.')[0]}-{int(time.time())}.csv\")\n",
    "sub.to_csv(fn, index=False)\n",
    "print(f\"Saved to {fn} ...\")"
   ]
  },
  {
   "cell_type": "code",
   "execution_count": null,
   "id": "7dc23f4a-5ff2-4e85-9dc9-137493b6bca7",
   "metadata": {},
   "outputs": [],
   "source": []
  }
 ],
 "metadata": {
  "kernelspec": {
   "display_name": "Python 3 (ipykernel)",
   "language": "python",
   "name": "python3"
  },
  "language_info": {
   "codemirror_mode": {
    "name": "ipython",
    "version": 3
   },
   "file_extension": ".py",
   "mimetype": "text/x-python",
   "name": "python",
   "nbconvert_exporter": "python",
   "pygments_lexer": "ipython3",
   "version": "3.8.0"
  }
 },
 "nbformat": 4,
 "nbformat_minor": 5
}
