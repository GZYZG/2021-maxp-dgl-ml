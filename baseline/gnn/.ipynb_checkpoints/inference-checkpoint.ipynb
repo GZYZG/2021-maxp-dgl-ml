{
 "cells": [
  {
   "cell_type": "code",
   "execution_count": 3,
   "id": "350af28e-77e0-4d38-a0cf-690afd1ba565",
   "metadata": {},
   "outputs": [],
   "source": [
    "import torch as th\n",
    "import dgl\n",
    "import os\n",
    "import torch.nn.functional as F\n",
    "from models import GraphSageModel, GraphConvModel, GraphAttnModel\n"
   ]
  },
  {
   "cell_type": "markdown",
   "id": "256676db-f8bb-4967-aba5-8bbc4b00a425",
   "metadata": {},
   "source": [
    "output_dir = \"./output\"\n",
    "model_name = \"dgl_model-057137.pth\"\n",
    "gnn_model = \"graphsage\"\n",
    "\n",
    "model_path = os.path.join(output_dir, model_name)\n",
    "\n",
    "in_feat = \n",
    "hidden_dim = 64 \n",
    "n_layers = 2\n",
    "n_classes = 23\n",
    "\n",
    "if gnn_model == 'graphsage':\n",
    "    model = GraphSageModel(in_feat, hidden_dim, n_layers, n_classes)\n",
    "elif gnn_model == 'graphconv':\n",
    "    model = GraphConvModel(in_feat, hidden_dim, n_layers, n_classes,\n",
    "                           norm='both', activation=F.relu, dropout=0)\n",
    "elif gnn_model == 'graphattn':\n",
    "    model = GraphAttnModel(in_feat, hidden_dim, n_layers, n_classes,\n",
    "                           heads=([5] * n_layers), activation=F.relu, feat_drop=0, attn_drop=0)\n",
    "else:\n",
    "    raise NotImplementedError('So far, only support three algorithms: GraphSage, GraphConv, and GraphAttn')"
   ]
  }
 ],
 "metadata": {
  "kernelspec": {
   "display_name": "Python 3 (ipykernel)",
   "language": "python",
   "name": "python3"
  },
  "language_info": {
   "codemirror_mode": {
    "name": "ipython",
    "version": 3
   },
   "file_extension": ".py",
   "mimetype": "text/x-python",
   "name": "python",
   "nbconvert_exporter": "python",
   "pygments_lexer": "ipython3",
   "version": "3.8.0"
  }
 },
 "nbformat": 4,
 "nbformat_minor": 5
}
