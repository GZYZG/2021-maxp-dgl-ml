{
 "cells": [
  {
   "cell_type": "code",
   "execution_count": 37,
   "id": "81ffc03d-f699-475f-a1ba-db81ffd91874",
   "metadata": {},
   "outputs": [],
   "source": [
    "from ogb.nodeproppred import DglNodePropPredDataset\n",
    "from dgl.dataloading.neighbor import MultiLayerNeighborSampler\n",
    "from dgl.dataloading.pytorch import NodeDataLoader\n",
    "from dgl.nn import GATConv"
   ]
  },
  {
   "cell_type": "code",
   "execution_count": 8,
   "id": "77fb9fb9-9987-4d2d-bb44-1d2a34ae54f3",
   "metadata": {},
   "outputs": [],
   "source": [
    "d = DglNodePropPredDataset(name='ogbn-products')"
   ]
  },
  {
   "cell_type": "code",
   "execution_count": 9,
   "id": "bfe9d499-41e6-4746-a518-e7f729367d25",
   "metadata": {},
   "outputs": [
    {
     "data": {
      "text/plain": [
       "(Graph(num_nodes=2449029, num_edges=123718280,\n",
       "       ndata_schemes={'feat': Scheme(shape=(100,), dtype=torch.float32)}\n",
       "       edata_schemes={}),\n",
       " tensor([[0],\n",
       "         [1],\n",
       "         [2],\n",
       "         ...,\n",
       "         [8],\n",
       "         [2],\n",
       "         [4]]))"
      ]
     },
     "execution_count": 9,
     "metadata": {},
     "output_type": "execute_result"
    }
   ],
   "source": [
    "g, labels = d[0]\n",
    "g, labels"
   ]
  },
  {
   "cell_type": "code",
   "execution_count": 17,
   "id": "960ed160-9dbe-4f08-9f75-f29a35ce96ef",
   "metadata": {},
   "outputs": [
    {
     "data": {
      "text/plain": [
       "torch.Size([2449029, 100])"
      ]
     },
     "execution_count": 17,
     "metadata": {},
     "output_type": "execute_result"
    }
   ],
   "source": [
    "g.ndata['feat'].shape"
   ]
  },
  {
   "cell_type": "code",
   "execution_count": 11,
   "id": "c9c96384-d9c5-42c1-b1e4-6c4eba7c8945",
   "metadata": {},
   "outputs": [],
   "source": [
    "g = g.to(\"cuda:0\")"
   ]
  },
  {
   "cell_type": "code",
   "execution_count": 16,
   "id": "41d56bb2-01a4-4af7-9fb5-420bf892cdc0",
   "metadata": {},
   "outputs": [
    {
     "data": {
      "text/plain": [
       "{'train': tensor([     0,      1,      2,  ..., 196612, 196613, 196614]),\n",
       " 'valid': tensor([196615, 196616, 196617,  ..., 235935, 235936, 235937]),\n",
       " 'test': tensor([ 235938,  235939,  235940,  ..., 2449026, 2449027, 2449028])}"
      ]
     },
     "execution_count": 16,
     "metadata": {},
     "output_type": "execute_result"
    }
   ],
   "source": [
    "d.get_idx_split()"
   ]
  },
  {
   "cell_type": "code",
   "execution_count": 18,
   "id": "d23eb074-0653-4ca0-a94f-bcb9f2c29657",
   "metadata": {},
   "outputs": [
    {
     "data": {
      "text/plain": [
       "device(type='cuda', index=0)"
      ]
     },
     "execution_count": 18,
     "metadata": {},
     "output_type": "execute_result"
    }
   ],
   "source": [
    "g.ndata['feat'].device"
   ]
  },
  {
   "cell_type": "code",
   "execution_count": 20,
   "id": "88da81c0-61d8-431c-9b0a-9e84ab2bbf06",
   "metadata": {},
   "outputs": [
    {
     "data": {
      "text/plain": [
       "tensor([0, 1, 2,  ..., 8, 2, 4])"
      ]
     },
     "execution_count": 20,
     "metadata": {},
     "output_type": "execute_result"
    }
   ],
   "source": [
    "labels.squeeze(1)"
   ]
  },
  {
   "cell_type": "code",
   "execution_count": 10,
   "id": "0c04d1e3-d12d-4a46-ae90-38918c29e4e9",
   "metadata": {},
   "outputs": [],
   "source": [
    "sampler = MultiLayerNeighborSampler([15, 15, 15])\n",
    "split_idx = d.get_idx_split()\n",
    "train_idx = split_idx[\"train\"]#.to(device)\n",
    "valid_idx = split_idx[\"valid\"]#.to(device)\n",
    "test_idx = split_idx[\"test\"]#.to(device)\n",
    "train_dataloader = NodeDataLoader(g,\n",
    "                                  train_idx,\n",
    "                                  sampler,\n",
    "                                  batch_size=1024,\n",
    "                                  shuffle=True,\n",
    "                                  drop_last=False,\n",
    "#                                       num_workers=4,\n",
    "                                  )    "
   ]
  },
  {
   "cell_type": "code",
   "execution_count": 56,
   "id": "4edf4524-1304-4f9e-8b1c-0e02946df82c",
   "metadata": {},
   "outputs": [],
   "source": [
    "input_nodes, seeds, blocks = next(iter(train_dataloader))"
   ]
  },
  {
   "cell_type": "code",
   "execution_count": 15,
   "id": "ce81dce8-8086-4f09-a0f8-7c6267d4be4f",
   "metadata": {},
   "outputs": [
    {
     "data": {
      "text/plain": [
       "torch.Size([871532])"
      ]
     },
     "execution_count": 15,
     "metadata": {},
     "output_type": "execute_result"
    }
   ],
   "source": [
    "input_nodes.shape"
   ]
  },
  {
   "cell_type": "code",
   "execution_count": 61,
   "id": "4a484199-6059-4b15-a75e-98641ae40093",
   "metadata": {},
   "outputs": [
    {
     "data": {
      "text/plain": [
       "tensor([ 62152,  24565, 118068,  ..., 128546,  25811, 181088])"
      ]
     },
     "execution_count": 61,
     "metadata": {},
     "output_type": "execute_result"
    }
   ],
   "source": [
    "seeds"
   ]
  },
  {
   "cell_type": "code",
   "execution_count": 57,
   "id": "48e29e4f-7027-443a-88e4-7a5e68dd2372",
   "metadata": {},
   "outputs": [
    {
     "data": {
      "text/plain": [
       "[Block(num_src_nodes=880459, num_dst_nodes=176257, num_edges=2582594),\n",
       " Block(num_src_nodes=176257, num_dst_nodes=15676, num_edges=230989),\n",
       " Block(num_src_nodes=15676, num_dst_nodes=1024, num_edges=15050)]"
      ]
     },
     "execution_count": 57,
     "metadata": {},
     "output_type": "execute_result"
    }
   ],
   "source": [
    "blocks"
   ]
  },
  {
   "cell_type": "code",
   "execution_count": 58,
   "id": "dd8a3a4e-a09a-43f6-b3b2-9ca9100dd27a",
   "metadata": {},
   "outputs": [
    {
     "data": {
      "text/plain": [
       "176257"
      ]
     },
     "execution_count": 58,
     "metadata": {},
     "output_type": "execute_result"
    }
   ],
   "source": [
    "blocks[0].number_of_dst_nodes()"
   ]
  },
  {
   "cell_type": "code",
   "execution_count": 59,
   "id": "bf9e9d06-49de-4a6d-a544-856db89039de",
   "metadata": {},
   "outputs": [
    {
     "data": {
      "text/plain": [
       "torch.Size([176257, 100])"
      ]
     },
     "execution_count": 59,
     "metadata": {},
     "output_type": "execute_result"
    }
   ],
   "source": [
    "blocks[1].ndata['feat']['_N'].shape"
   ]
  },
  {
   "cell_type": "code",
   "execution_count": 54,
   "id": "e43c5aef-217d-472c-ad3f-b50e9521c763",
   "metadata": {},
   "outputs": [
    {
     "data": {
      "text/plain": [
       "(tensor([ 0.5732, -0.3104,  0.3387,  1.4321, -0.3140,  1.0019, -0.4314,  0.0523,\n",
       "         -0.9290,  0.2076, -0.2914,  1.1955,  0.5039,  0.6504,  0.0198,  0.3723,\n",
       "         -0.4141,  0.6265, -0.2357,  0.0458,  0.0891, -0.2032, -0.0938, -0.5144,\n",
       "          0.3038, -0.6644, -0.6155,  0.2167,  0.6638,  0.7903, -0.2806, -0.2437,\n",
       "         -0.4158,  1.0209, -0.3888,  0.7717, -0.1969, -0.5606,  0.3234,  0.6431,\n",
       "          0.6773, -0.3765, -0.5819,  0.3278, -1.2331,  0.5929,  0.4997,  0.5553,\n",
       "          0.3544, -0.8994,  0.0871,  2.0412,  1.9411, -0.4537, -0.0190, -1.5940,\n",
       "          1.0367,  0.1635, -1.1756, -0.3969,  0.9795, -0.3577,  1.0506,  0.9920,\n",
       "         -1.2444, -0.1570,  0.8460, -0.1106,  0.5636, -1.5201,  1.7386,  1.2931,\n",
       "         -0.8524,  0.8753, -0.6568,  0.8314,  0.2860,  2.6468, -0.6079, -0.4724,\n",
       "          0.6979, -1.0838, -2.3402, -0.2772, -1.2829, -0.1060, -1.6026, -0.6662,\n",
       "          0.9065, -0.0234, -1.1551,  0.8833, -0.2914, -0.0225,  0.3380,  2.1940,\n",
       "          0.9189, -0.5383, -0.5951,  1.4945]),\n",
       " tensor([ 0.5732, -0.3104,  0.3387,  1.4321, -0.3140,  1.0019, -0.4314,  0.0523,\n",
       "         -0.9290,  0.2076, -0.2914,  1.1955,  0.5039,  0.6504,  0.0198,  0.3723,\n",
       "         -0.4141,  0.6265, -0.2357,  0.0458,  0.0891, -0.2032, -0.0938, -0.5144,\n",
       "          0.3038, -0.6644, -0.6155,  0.2167,  0.6638,  0.7903, -0.2806, -0.2437,\n",
       "         -0.4158,  1.0209, -0.3888,  0.7717, -0.1969, -0.5606,  0.3234,  0.6431,\n",
       "          0.6773, -0.3765, -0.5819,  0.3278, -1.2331,  0.5929,  0.4997,  0.5553,\n",
       "          0.3544, -0.8994,  0.0871,  2.0412,  1.9411, -0.4537, -0.0190, -1.5940,\n",
       "          1.0367,  0.1635, -1.1756, -0.3969,  0.9795, -0.3577,  1.0506,  0.9920,\n",
       "         -1.2444, -0.1570,  0.8460, -0.1106,  0.5636, -1.5201,  1.7386,  1.2931,\n",
       "         -0.8524,  0.8753, -0.6568,  0.8314,  0.2860,  2.6468, -0.6079, -0.4724,\n",
       "          0.6979, -1.0838, -2.3402, -0.2772, -1.2829, -0.1060, -1.6026, -0.6662,\n",
       "          0.9065, -0.0234, -1.1551,  0.8833, -0.2914, -0.0225,  0.3380,  2.1940,\n",
       "          0.9189, -0.5383, -0.5951,  1.4945]))"
      ]
     },
     "execution_count": 54,
     "metadata": {},
     "output_type": "execute_result"
    }
   ],
   "source": [
    "blocks[0].dstdata['feat'][0], blocks[0].srcdata['feat'][0]"
   ]
  },
  {
   "cell_type": "code",
   "execution_count": 60,
   "id": "255e15b1-df1a-41ef-bb96-e99850e8be4b",
   "metadata": {},
   "outputs": [
    {
     "data": {
      "text/plain": [
       "(tensor([     0,      1,      2,  ..., 176254, 176255, 176256]),\n",
       " tensor([     0,      1,      2,  ..., 880456, 880457, 880458]))"
      ]
     },
     "execution_count": 60,
     "metadata": {},
     "output_type": "execute_result"
    }
   ],
   "source": [
    "blocks[0].dstnodes(), blocks[0].srcnodes()"
   ]
  },
  {
   "cell_type": "code",
   "execution_count": 45,
   "id": "573e2bf8-4051-49b0-9ae7-caa2025311a9",
   "metadata": {},
   "outputs": [
    {
     "data": {
      "text/plain": [
       "GATConv(\n",
       "  (fc): Linear(in_features=100, out_features=192, bias=False)\n",
       "  (feat_drop): Dropout(p=0.0, inplace=False)\n",
       "  (attn_drop): Dropout(p=0.0, inplace=False)\n",
       "  (leaky_relu): LeakyReLU(negative_slope=0.2)\n",
       "  (res_fc): Linear(in_features=100, out_features=192, bias=False)\n",
       ")"
      ]
     },
     "execution_count": 45,
     "metadata": {},
     "output_type": "execute_result"
    }
   ],
   "source": [
    "gat = GATConv(100,\n",
    "        64,\n",
    "        num_heads=3,\n",
    "        residual=True,\n",
    "        allow_zero_in_degree=True)\n",
    "gat"
   ]
  },
  {
   "cell_type": "code",
   "execution_count": 44,
   "id": "bfc0c49d-b706-452e-914f-cb5c93e25e4f",
   "metadata": {},
   "outputs": [
    {
     "ename": "RuntimeError",
     "evalue": "The size of tensor a (176010) must match the size of tensor b (871532) at non-singleton dimension 0",
     "output_type": "error",
     "traceback": [
      "\u001b[0;31m---------------------------------------------------------------------------\u001b[0m",
      "\u001b[0;31mRuntimeError\u001b[0m                              Traceback (most recent call last)",
      "\u001b[0;32m/tmp/ipykernel_24009/3219978884.py\u001b[0m in \u001b[0;36m<module>\u001b[0;34m\u001b[0m\n\u001b[0;32m----> 1\u001b[0;31m \u001b[0mrst\u001b[0m \u001b[0;34m=\u001b[0m \u001b[0mgat\u001b[0m\u001b[0;34m(\u001b[0m\u001b[0mblocks\u001b[0m\u001b[0;34m[\u001b[0m\u001b[0;36m0\u001b[0m\u001b[0;34m]\u001b[0m\u001b[0;34m,\u001b[0m \u001b[0mblocks\u001b[0m\u001b[0;34m[\u001b[0m\u001b[0;36m0\u001b[0m\u001b[0;34m]\u001b[0m\u001b[0;34m.\u001b[0m\u001b[0msrcdata\u001b[0m\u001b[0;34m[\u001b[0m\u001b[0;34m'feat'\u001b[0m\u001b[0;34m]\u001b[0m\u001b[0;34m)\u001b[0m\u001b[0;34m\u001b[0m\u001b[0;34m\u001b[0m\u001b[0m\n\u001b[0m",
      "\u001b[0;32m~/.local/lib/python3.8/site-packages/torch/nn/modules/module.py\u001b[0m in \u001b[0;36m_call_impl\u001b[0;34m(self, *input, **kwargs)\u001b[0m\n\u001b[1;32m    887\u001b[0m             \u001b[0mresult\u001b[0m \u001b[0;34m=\u001b[0m \u001b[0mself\u001b[0m\u001b[0;34m.\u001b[0m\u001b[0m_slow_forward\u001b[0m\u001b[0;34m(\u001b[0m\u001b[0;34m*\u001b[0m\u001b[0minput\u001b[0m\u001b[0;34m,\u001b[0m \u001b[0;34m**\u001b[0m\u001b[0mkwargs\u001b[0m\u001b[0;34m)\u001b[0m\u001b[0;34m\u001b[0m\u001b[0;34m\u001b[0m\u001b[0m\n\u001b[1;32m    888\u001b[0m         \u001b[0;32melse\u001b[0m\u001b[0;34m:\u001b[0m\u001b[0;34m\u001b[0m\u001b[0;34m\u001b[0m\u001b[0m\n\u001b[0;32m--> 889\u001b[0;31m             \u001b[0mresult\u001b[0m \u001b[0;34m=\u001b[0m \u001b[0mself\u001b[0m\u001b[0;34m.\u001b[0m\u001b[0mforward\u001b[0m\u001b[0;34m(\u001b[0m\u001b[0;34m*\u001b[0m\u001b[0minput\u001b[0m\u001b[0;34m,\u001b[0m \u001b[0;34m**\u001b[0m\u001b[0mkwargs\u001b[0m\u001b[0;34m)\u001b[0m\u001b[0;34m\u001b[0m\u001b[0;34m\u001b[0m\u001b[0m\n\u001b[0m\u001b[1;32m    890\u001b[0m         for hook in itertools.chain(\n\u001b[1;32m    891\u001b[0m                 \u001b[0m_global_forward_hooks\u001b[0m\u001b[0;34m.\u001b[0m\u001b[0mvalues\u001b[0m\u001b[0;34m(\u001b[0m\u001b[0;34m)\u001b[0m\u001b[0;34m,\u001b[0m\u001b[0;34m\u001b[0m\u001b[0;34m\u001b[0m\u001b[0m\n",
      "\u001b[0;32m~/.local/lib/python3.8/site-packages/dgl/nn/pytorch/conv/gatconv.py\u001b[0m in \u001b[0;36mforward\u001b[0;34m(self, graph, feat, get_attention)\u001b[0m\n\u001b[1;32m    306\u001b[0m             \u001b[0;32mif\u001b[0m \u001b[0mself\u001b[0m\u001b[0;34m.\u001b[0m\u001b[0mres_fc\u001b[0m \u001b[0;32mis\u001b[0m \u001b[0;32mnot\u001b[0m \u001b[0;32mNone\u001b[0m\u001b[0;34m:\u001b[0m\u001b[0;34m\u001b[0m\u001b[0;34m\u001b[0m\u001b[0m\n\u001b[1;32m    307\u001b[0m                 \u001b[0mresval\u001b[0m \u001b[0;34m=\u001b[0m \u001b[0mself\u001b[0m\u001b[0;34m.\u001b[0m\u001b[0mres_fc\u001b[0m\u001b[0;34m(\u001b[0m\u001b[0mh_dst\u001b[0m\u001b[0;34m)\u001b[0m\u001b[0;34m.\u001b[0m\u001b[0mview\u001b[0m\u001b[0;34m(\u001b[0m\u001b[0mh_dst\u001b[0m\u001b[0;34m.\u001b[0m\u001b[0mshape\u001b[0m\u001b[0;34m[\u001b[0m\u001b[0;36m0\u001b[0m\u001b[0;34m]\u001b[0m\u001b[0;34m,\u001b[0m \u001b[0mself\u001b[0m\u001b[0;34m.\u001b[0m\u001b[0m_num_heads\u001b[0m\u001b[0;34m,\u001b[0m \u001b[0mself\u001b[0m\u001b[0;34m.\u001b[0m\u001b[0m_out_feats\u001b[0m\u001b[0;34m)\u001b[0m\u001b[0;34m\u001b[0m\u001b[0;34m\u001b[0m\u001b[0m\n\u001b[0;32m--> 308\u001b[0;31m                 \u001b[0mrst\u001b[0m \u001b[0;34m=\u001b[0m \u001b[0mrst\u001b[0m \u001b[0;34m+\u001b[0m \u001b[0mresval\u001b[0m\u001b[0;34m\u001b[0m\u001b[0;34m\u001b[0m\u001b[0m\n\u001b[0m\u001b[1;32m    309\u001b[0m             \u001b[0;31m# bias\u001b[0m\u001b[0;34m\u001b[0m\u001b[0;34m\u001b[0m\u001b[0;34m\u001b[0m\u001b[0m\n\u001b[1;32m    310\u001b[0m             \u001b[0;32mif\u001b[0m \u001b[0mself\u001b[0m\u001b[0;34m.\u001b[0m\u001b[0mbias\u001b[0m \u001b[0;32mis\u001b[0m \u001b[0;32mnot\u001b[0m \u001b[0;32mNone\u001b[0m\u001b[0;34m:\u001b[0m\u001b[0;34m\u001b[0m\u001b[0;34m\u001b[0m\u001b[0m\n",
      "\u001b[0;31mRuntimeError\u001b[0m: The size of tensor a (176010) must match the size of tensor b (871532) at non-singleton dimension 0"
     ]
    }
   ],
   "source": [
    "rst = gat(blocks[0], blocks[0].srcdata['feat'])"
   ]
  },
  {
   "cell_type": "code",
   "execution_count": 42,
   "id": "ae4b6fc1-16c3-476f-953b-f481df83cc24",
   "metadata": {},
   "outputs": [
    {
     "data": {
      "text/plain": [
       "torch.Size([176010, 3, 64])"
      ]
     },
     "execution_count": 42,
     "metadata": {},
     "output_type": "execute_result"
    }
   ],
   "source": [
    "rst.shape"
   ]
  },
  {
   "cell_type": "code",
   "execution_count": 20,
   "id": "a5cb2d9c-5433-4fa1-a61e-8f479c3c5259",
   "metadata": {},
   "outputs": [
    {
     "data": {
      "text/plain": [
       "['_graph',\n",
       " '_canonical_etypes',\n",
       " '_batch_num_nodes',\n",
       " '_batch_num_edges',\n",
       " '_ntypes',\n",
       " '_srctypes_invmap',\n",
       " '_dsttypes_invmap',\n",
       " '_is_unibipartite',\n",
       " '_etypes',\n",
       " '_etype2canonical',\n",
       " '_etypes_invmap',\n",
       " '_node_frames',\n",
       " '_edge_frames',\n",
       " '__module__',\n",
       " '__doc__',\n",
       " 'is_block',\n",
       " '__repr__',\n",
       " '__init__',\n",
       " '_init',\n",
       " '__setstate__',\n",
       " '__copy__',\n",
       " 'add_nodes',\n",
       " 'add_edge',\n",
       " 'add_edges',\n",
       " 'remove_edges',\n",
       " 'remove_nodes',\n",
       " '_reset_cached_info',\n",
       " 'is_unibipartite',\n",
       " 'ntypes',\n",
       " 'etypes',\n",
       " 'canonical_etypes',\n",
       " 'srctypes',\n",
       " 'dsttypes',\n",
       " 'metagraph',\n",
       " 'to_canonical_etype',\n",
       " 'get_ntype_id',\n",
       " 'get_ntype_id_from_src',\n",
       " 'get_ntype_id_from_dst',\n",
       " 'get_etype_id',\n",
       " 'batch_size',\n",
       " 'batch_num_nodes',\n",
       " 'set_batch_num_nodes',\n",
       " 'batch_num_edges',\n",
       " 'set_batch_num_edges',\n",
       " 'nodes',\n",
       " 'srcnodes',\n",
       " 'dstnodes',\n",
       " 'ndata',\n",
       " 'srcdata',\n",
       " 'dstdata',\n",
       " 'edges',\n",
       " 'edata',\n",
       " '_find_etypes',\n",
       " '__getitem__',\n",
       " 'number_of_nodes',\n",
       " 'num_nodes',\n",
       " 'number_of_src_nodes',\n",
       " 'num_src_nodes',\n",
       " 'number_of_dst_nodes',\n",
       " 'num_dst_nodes',\n",
       " 'number_of_edges',\n",
       " 'num_edges',\n",
       " '__len__',\n",
       " 'is_multigraph',\n",
       " 'is_homogeneous',\n",
       " 'is_readonly',\n",
       " 'idtype',\n",
       " '_idtype_str',\n",
       " '__contains__',\n",
       " 'has_nodes',\n",
       " 'has_node',\n",
       " 'has_edges_between',\n",
       " 'has_edge_between',\n",
       " 'predecessors',\n",
       " 'successors',\n",
       " 'edge_id',\n",
       " 'edge_ids',\n",
       " 'find_edges',\n",
       " 'in_edges',\n",
       " 'out_edges',\n",
       " 'all_edges',\n",
       " 'in_degree',\n",
       " 'in_degrees',\n",
       " 'out_degree',\n",
       " 'out_degrees',\n",
       " 'adjacency_matrix',\n",
       " 'adj',\n",
       " 'adjacency_matrix_scipy',\n",
       " 'inc',\n",
       " 'incidence_matrix',\n",
       " 'node_attr_schemes',\n",
       " 'edge_attr_schemes',\n",
       " 'set_n_initializer',\n",
       " 'set_e_initializer',\n",
       " '_set_n_repr',\n",
       " '_get_n_repr',\n",
       " '_pop_n_repr',\n",
       " '_set_e_repr',\n",
       " '_get_e_repr',\n",
       " '_pop_e_repr',\n",
       " 'apply_nodes',\n",
       " 'apply_edges',\n",
       " 'send_and_recv',\n",
       " 'pull',\n",
       " 'push',\n",
       " 'update_all',\n",
       " 'multi_update_all',\n",
       " 'prop_nodes',\n",
       " 'prop_edges',\n",
       " 'filter_nodes',\n",
       " 'filter_edges',\n",
       " 'device',\n",
       " 'to',\n",
       " 'cpu',\n",
       " 'clone',\n",
       " 'local_var',\n",
       " 'local_scope',\n",
       " 'formats',\n",
       " 'create_formats_',\n",
       " 'astype',\n",
       " 'shared_memory',\n",
       " 'long',\n",
       " 'int',\n",
       " 'from_networkx',\n",
       " 'from_scipy_sparse_matrix',\n",
       " 'register_apply_node_func',\n",
       " 'register_apply_edge_func',\n",
       " 'register_message_func',\n",
       " 'register_reduce_func',\n",
       " 'group_apply_edges',\n",
       " 'send',\n",
       " 'recv',\n",
       " 'multi_recv',\n",
       " 'multi_send_and_recv',\n",
       " 'multi_pull',\n",
       " 'readonly',\n",
       " '__dict__',\n",
       " '__weakref__',\n",
       " 'to_networkx',\n",
       " 'line_graph',\n",
       " 'reverse',\n",
       " 'add_self_loop',\n",
       " 'remove_self_loop',\n",
       " 'to_simple',\n",
       " 'subgraph',\n",
       " 'edge_subgraph',\n",
       " 'in_subgraph',\n",
       " 'out_subgraph',\n",
       " 'node_type_subgraph',\n",
       " 'edge_type_subgraph',\n",
       " '__hash__',\n",
       " '__str__',\n",
       " '__getattribute__',\n",
       " '__setattr__',\n",
       " '__delattr__',\n",
       " '__lt__',\n",
       " '__le__',\n",
       " '__eq__',\n",
       " '__ne__',\n",
       " '__gt__',\n",
       " '__ge__',\n",
       " '__new__',\n",
       " '__reduce_ex__',\n",
       " '__reduce__',\n",
       " '__subclasshook__',\n",
       " '__init_subclass__',\n",
       " '__format__',\n",
       " '__sizeof__',\n",
       " '__dir__',\n",
       " '__class__']"
      ]
     },
     "execution_count": 20,
     "metadata": {},
     "output_type": "execute_result"
    }
   ],
   "source": [
    "blocks[0].__dir__()"
   ]
  },
  {
   "cell_type": "code",
   "execution_count": null,
   "id": "c114e50c-9841-4bc7-b727-c9eae684ac3c",
   "metadata": {},
   "outputs": [],
   "source": []
  }
 ],
 "metadata": {
  "kernelspec": {
   "display_name": "Python 3 (ipykernel)",
   "language": "python",
   "name": "python3"
  },
  "language_info": {
   "codemirror_mode": {
    "name": "ipython",
    "version": 3
   },
   "file_extension": ".py",
   "mimetype": "text/x-python",
   "name": "python",
   "nbconvert_exporter": "python",
   "pygments_lexer": "ipython3",
   "version": "3.8.0"
  }
 },
 "nbformat": 4,
 "nbformat_minor": 5
}
