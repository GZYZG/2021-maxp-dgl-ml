{
 "cells": [
  {
   "cell_type": "code",
   "execution_count": 1,
   "id": "81ffc03d-f699-475f-a1ba-db81ffd91874",
   "metadata": {},
   "outputs": [
    {
     "name": "stderr",
     "output_type": "stream",
     "text": [
      "WARNING:root:The OGB package is out of date. Your version is 1.3.0, while the latest version is 1.3.2.\n",
      "Using backend: pytorch\n"
     ]
    }
   ],
   "source": [
    "from ogb.nodeproppred import DglNodePropPredDataset\n",
    "from dgl.dataloading.neighbor import MultiLayerNeighborSampler\n",
    "from dgl.dataloading.pytorch import NodeDataLoader\n",
    "from dgl.nn import GATConv"
   ]
  },
  {
   "cell_type": "code",
   "execution_count": 6,
   "id": "77fb9fb9-9987-4d2d-bb44-1d2a34ae54f3",
   "metadata": {},
   "outputs": [],
   "source": [
    "d = DglNodePropPredDataset(name='ogbn-products')"
   ]
  },
  {
   "cell_type": "code",
   "execution_count": 7,
   "id": "82f327ef-e480-4b5a-8305-cdf81dfea57b",
   "metadata": {},
   "outputs": [
    {
     "data": {
      "text/plain": [
       "47"
      ]
     },
     "execution_count": 7,
     "metadata": {},
     "output_type": "execute_result"
    }
   ],
   "source": [
    "d.num_classes"
   ]
  },
  {
   "cell_type": "code",
   "execution_count": 8,
   "id": "bfe9d499-41e6-4746-a518-e7f729367d25",
   "metadata": {},
   "outputs": [
    {
     "data": {
      "text/plain": [
       "(Graph(num_nodes=2449029, num_edges=123718280,\n",
       "       ndata_schemes={'feat': Scheme(shape=(100,), dtype=torch.float32)}\n",
       "       edata_schemes={}),\n",
       " tensor([[0],\n",
       "         [1],\n",
       "         [2],\n",
       "         ...,\n",
       "         [8],\n",
       "         [2],\n",
       "         [4]]))"
      ]
     },
     "execution_count": 8,
     "metadata": {},
     "output_type": "execute_result"
    }
   ],
   "source": [
    "g, labels = d[0]\n",
    "g, labels"
   ]
  },
  {
   "cell_type": "code",
   "execution_count": 5,
   "id": "91f571dc-29f5-4e93-911e-ab4b32f15bec",
   "metadata": {},
   "outputs": [
    {
     "data": {
      "text/plain": [
       "dgl.heterograph.DGLHeteroGraph"
      ]
     },
     "execution_count": 5,
     "metadata": {},
     "output_type": "execute_result"
    }
   ],
   "source": [
    "type(g)"
   ]
  },
  {
   "cell_type": "code",
   "execution_count": 5,
   "id": "960ed160-9dbe-4f08-9f75-f29a35ce96ef",
   "metadata": {},
   "outputs": [
    {
     "data": {
      "text/plain": [
       "torch.Size([169343, 128])"
      ]
     },
     "execution_count": 5,
     "metadata": {},
     "output_type": "execute_result"
    }
   ],
   "source": [
    "g.ndata['feat'].shape"
   ]
  },
  {
   "cell_type": "code",
   "execution_count": 6,
   "id": "41d56bb2-01a4-4af7-9fb5-420bf892cdc0",
   "metadata": {},
   "outputs": [
    {
     "data": {
      "text/plain": [
       "{'train': tensor([     0,      1,      2,  ..., 169145, 169148, 169251]),\n",
       " 'valid': tensor([   349,    357,    366,  ..., 169185, 169261, 169296]),\n",
       " 'test': tensor([   346,    398,    451,  ..., 169340, 169341, 169342])}"
      ]
     },
     "execution_count": 6,
     "metadata": {},
     "output_type": "execute_result"
    }
   ],
   "source": [
    "d.get_idx_split()"
   ]
  },
  {
   "cell_type": "code",
   "execution_count": 7,
   "id": "d23eb074-0653-4ca0-a94f-bcb9f2c29657",
   "metadata": {},
   "outputs": [
    {
     "data": {
      "text/plain": [
       "device(type='cpu')"
      ]
     },
     "execution_count": 7,
     "metadata": {},
     "output_type": "execute_result"
    }
   ],
   "source": [
    "g.ndata['feat'].device"
   ]
  },
  {
   "cell_type": "code",
   "execution_count": 8,
   "id": "88da81c0-61d8-431c-9b0a-9e84ab2bbf06",
   "metadata": {},
   "outputs": [
    {
     "data": {
      "text/plain": [
       "tensor([ 4,  5, 28,  ..., 10,  4,  1])"
      ]
     },
     "execution_count": 8,
     "metadata": {},
     "output_type": "execute_result"
    }
   ],
   "source": [
    "labels.squeeze(1)"
   ]
  },
  {
   "cell_type": "code",
   "execution_count": 9,
   "id": "0c04d1e3-d12d-4a46-ae90-38918c29e4e9",
   "metadata": {},
   "outputs": [],
   "source": [
    "sampler = MultiLayerNeighborSampler([15, 15, 15])\n",
    "split_idx = d.get_idx_split()\n",
    "train_idx = split_idx[\"train\"]#.to(device)\n",
    "valid_idx = split_idx[\"valid\"]#.to(device)\n",
    "test_idx = split_idx[\"test\"]#.to(device)\n",
    "train_dataloader = NodeDataLoader(g,\n",
    "                                  train_idx,\n",
    "                                  sampler,\n",
    "                                  batch_size=2048,\n",
    "                                  shuffle=True,\n",
    "                                  drop_last=False,\n",
    "#                                       num_workers=4,\n",
    "                                  )    "
   ]
  },
  {
   "cell_type": "code",
   "execution_count": 39,
   "id": "12ad8edb-e127-48bf-8e01-c008f872b78f",
   "metadata": {},
   "outputs": [
    {
     "data": {
      "text/plain": [
       "torch.Size([90941])"
      ]
     },
     "execution_count": 39,
     "metadata": {},
     "output_type": "execute_result"
    }
   ],
   "source": [
    "train_idx.shape"
   ]
  },
  {
   "cell_type": "code",
   "execution_count": 56,
   "id": "4edf4524-1304-4f9e-8b1c-0e02946df82c",
   "metadata": {},
   "outputs": [],
   "source": [
    "input_nodes, seeds, blocks = next(iter(train_dataloader))"
   ]
  },
  {
   "cell_type": "code",
   "execution_count": 15,
   "id": "ce81dce8-8086-4f09-a0f8-7c6267d4be4f",
   "metadata": {},
   "outputs": [
    {
     "data": {
      "text/plain": [
       "torch.Size([871532])"
      ]
     },
     "execution_count": 15,
     "metadata": {},
     "output_type": "execute_result"
    }
   ],
   "source": [
    "input_nodes.shape"
   ]
  },
  {
   "cell_type": "code",
   "execution_count": 61,
   "id": "4a484199-6059-4b15-a75e-98641ae40093",
   "metadata": {},
   "outputs": [
    {
     "data": {
      "text/plain": [
       "tensor([ 62152,  24565, 118068,  ..., 128546,  25811, 181088])"
      ]
     },
     "execution_count": 61,
     "metadata": {},
     "output_type": "execute_result"
    }
   ],
   "source": [
    "seeds"
   ]
  },
  {
   "cell_type": "code",
   "execution_count": 57,
   "id": "48e29e4f-7027-443a-88e4-7a5e68dd2372",
   "metadata": {},
   "outputs": [
    {
     "data": {
      "text/plain": [
       "[Block(num_src_nodes=880459, num_dst_nodes=176257, num_edges=2582594),\n",
       " Block(num_src_nodes=176257, num_dst_nodes=15676, num_edges=230989),\n",
       " Block(num_src_nodes=15676, num_dst_nodes=1024, num_edges=15050)]"
      ]
     },
     "execution_count": 57,
     "metadata": {},
     "output_type": "execute_result"
    }
   ],
   "source": [
    "blocks"
   ]
  },
  {
   "cell_type": "code",
   "execution_count": 58,
   "id": "dd8a3a4e-a09a-43f6-b3b2-9ca9100dd27a",
   "metadata": {},
   "outputs": [
    {
     "data": {
      "text/plain": [
       "176257"
      ]
     },
     "execution_count": 58,
     "metadata": {},
     "output_type": "execute_result"
    }
   ],
   "source": [
    "blocks[0].number_of_dst_nodes()"
   ]
  },
  {
   "cell_type": "code",
   "execution_count": 59,
   "id": "bf9e9d06-49de-4a6d-a544-856db89039de",
   "metadata": {},
   "outputs": [
    {
     "data": {
      "text/plain": [
       "torch.Size([176257, 100])"
      ]
     },
     "execution_count": 59,
     "metadata": {},
     "output_type": "execute_result"
    }
   ],
   "source": [
    "blocks[1].ndata['feat']['_N'].shape"
   ]
  },
  {
   "cell_type": "code",
   "execution_count": 54,
   "id": "e43c5aef-217d-472c-ad3f-b50e9521c763",
   "metadata": {},
   "outputs": [
    {
     "data": {
      "text/plain": [
       "(tensor([ 0.5732, -0.3104,  0.3387,  1.4321, -0.3140,  1.0019, -0.4314,  0.0523,\n",
       "         -0.9290,  0.2076, -0.2914,  1.1955,  0.5039,  0.6504,  0.0198,  0.3723,\n",
       "         -0.4141,  0.6265, -0.2357,  0.0458,  0.0891, -0.2032, -0.0938, -0.5144,\n",
       "          0.3038, -0.6644, -0.6155,  0.2167,  0.6638,  0.7903, -0.2806, -0.2437,\n",
       "         -0.4158,  1.0209, -0.3888,  0.7717, -0.1969, -0.5606,  0.3234,  0.6431,\n",
       "          0.6773, -0.3765, -0.5819,  0.3278, -1.2331,  0.5929,  0.4997,  0.5553,\n",
       "          0.3544, -0.8994,  0.0871,  2.0412,  1.9411, -0.4537, -0.0190, -1.5940,\n",
       "          1.0367,  0.1635, -1.1756, -0.3969,  0.9795, -0.3577,  1.0506,  0.9920,\n",
       "         -1.2444, -0.1570,  0.8460, -0.1106,  0.5636, -1.5201,  1.7386,  1.2931,\n",
       "         -0.8524,  0.8753, -0.6568,  0.8314,  0.2860,  2.6468, -0.6079, -0.4724,\n",
       "          0.6979, -1.0838, -2.3402, -0.2772, -1.2829, -0.1060, -1.6026, -0.6662,\n",
       "          0.9065, -0.0234, -1.1551,  0.8833, -0.2914, -0.0225,  0.3380,  2.1940,\n",
       "          0.9189, -0.5383, -0.5951,  1.4945]),\n",
       " tensor([ 0.5732, -0.3104,  0.3387,  1.4321, -0.3140,  1.0019, -0.4314,  0.0523,\n",
       "         -0.9290,  0.2076, -0.2914,  1.1955,  0.5039,  0.6504,  0.0198,  0.3723,\n",
       "         -0.4141,  0.6265, -0.2357,  0.0458,  0.0891, -0.2032, -0.0938, -0.5144,\n",
       "          0.3038, -0.6644, -0.6155,  0.2167,  0.6638,  0.7903, -0.2806, -0.2437,\n",
       "         -0.4158,  1.0209, -0.3888,  0.7717, -0.1969, -0.5606,  0.3234,  0.6431,\n",
       "          0.6773, -0.3765, -0.5819,  0.3278, -1.2331,  0.5929,  0.4997,  0.5553,\n",
       "          0.3544, -0.8994,  0.0871,  2.0412,  1.9411, -0.4537, -0.0190, -1.5940,\n",
       "          1.0367,  0.1635, -1.1756, -0.3969,  0.9795, -0.3577,  1.0506,  0.9920,\n",
       "         -1.2444, -0.1570,  0.8460, -0.1106,  0.5636, -1.5201,  1.7386,  1.2931,\n",
       "         -0.8524,  0.8753, -0.6568,  0.8314,  0.2860,  2.6468, -0.6079, -0.4724,\n",
       "          0.6979, -1.0838, -2.3402, -0.2772, -1.2829, -0.1060, -1.6026, -0.6662,\n",
       "          0.9065, -0.0234, -1.1551,  0.8833, -0.2914, -0.0225,  0.3380,  2.1940,\n",
       "          0.9189, -0.5383, -0.5951,  1.4945]))"
      ]
     },
     "execution_count": 54,
     "metadata": {},
     "output_type": "execute_result"
    }
   ],
   "source": [
    "blocks[0].dstdata['feat'][0], blocks[0].srcdata['feat'][0]"
   ]
  },
  {
   "cell_type": "code",
   "execution_count": 60,
   "id": "255e15b1-df1a-41ef-bb96-e99850e8be4b",
   "metadata": {},
   "outputs": [
    {
     "data": {
      "text/plain": [
       "(tensor([     0,      1,      2,  ..., 176254, 176255, 176256]),\n",
       " tensor([     0,      1,      2,  ..., 880456, 880457, 880458]))"
      ]
     },
     "execution_count": 60,
     "metadata": {},
     "output_type": "execute_result"
    }
   ],
   "source": [
    "blocks[0].dstnodes(), blocks[0].srcnodes()"
   ]
  },
  {
   "cell_type": "code",
   "execution_count": 12,
   "id": "573e2bf8-4051-49b0-9ae7-caa2025311a9",
   "metadata": {},
   "outputs": [
    {
     "data": {
      "text/plain": [
       "GATConv(\n",
       "  (fc): Linear(in_features=128, out_features=192, bias=False)\n",
       "  (feat_drop): Dropout(p=0.0, inplace=False)\n",
       "  (attn_drop): Dropout(p=0.0, inplace=False)\n",
       "  (leaky_relu): LeakyReLU(negative_slope=0.2)\n",
       ")"
      ]
     },
     "execution_count": 12,
     "metadata": {},
     "output_type": "execute_result"
    }
   ],
   "source": [
    "gat = GATConv(128,\n",
    "        64,\n",
    "        num_heads=3,\n",
    "#         residual=True,\n",
    "        allow_zero_in_degree=True)\n",
    "gat"
   ]
  },
  {
   "cell_type": "code",
   "execution_count": 13,
   "id": "bfc0c49d-b706-452e-914f-cb5c93e25e4f",
   "metadata": {},
   "outputs": [],
   "source": [
    "rst = gat(blocks[0], blocks[0].srcdata['feat'])"
   ]
  },
  {
   "cell_type": "code",
   "execution_count": 37,
   "id": "761eebca-5684-4093-8c74-d2d3fd28bd56",
   "metadata": {},
   "outputs": [
    {
     "data": {
      "text/plain": [
       "[Block(num_src_nodes=33991, num_dst_nodes=15218, num_edges=56051),\n",
       " Block(num_src_nodes=15218, num_dst_nodes=4416, num_edges=18135),\n",
       " Block(num_src_nodes=4416, num_dst_nodes=829, num_edges=3688)]"
      ]
     },
     "execution_count": 37,
     "metadata": {},
     "output_type": "execute_result"
    }
   ],
   "source": [
    "blocks"
   ]
  },
  {
   "cell_type": "code",
   "execution_count": 36,
   "id": "eaab4357-5b9a-4a7d-8828-807ba5f74065",
   "metadata": {},
   "outputs": [
    {
     "name": "stdout",
     "output_type": "stream",
     "text": [
      "0: [Block(num_src_nodes=55811, num_dst_nodes=31271, num_edges=112971), Block(num_src_nodes=31271, num_dst_nodes=10372, num_edges=42329), Block(num_src_nodes=10372, num_dst_nodes=2048, num_edges=8878)]\n",
      "1: [Block(num_src_nodes=52465, num_dst_nodes=29198, num_edges=102647), Block(num_src_nodes=29198, num_dst_nodes=9987, num_edges=39279), Block(num_src_nodes=9987, num_dst_nodes=2048, num_edges=8458)]\n",
      "2: [Block(num_src_nodes=54001, num_dst_nodes=29980, num_edges=105787), Block(num_src_nodes=29980, num_dst_nodes=10145, num_edges=39893), Block(num_src_nodes=10145, num_dst_nodes=2048, num_edges=8621)]\n",
      "3: [Block(num_src_nodes=54969, num_dst_nodes=31035, num_edges=108180), Block(num_src_nodes=31035, num_dst_nodes=10408, num_edges=41269), Block(num_src_nodes=10408, num_dst_nodes=2048, num_edges=8832)]\n",
      "4: [Block(num_src_nodes=53765, num_dst_nodes=30379, num_edges=108058), Block(num_src_nodes=30379, num_dst_nodes=10139, num_edges=40819), Block(num_src_nodes=10139, num_dst_nodes=2048, num_edges=8633)]\n",
      "5: [Block(num_src_nodes=55413, num_dst_nodes=30265, num_edges=108019), Block(num_src_nodes=30265, num_dst_nodes=10170, num_edges=39725), Block(num_src_nodes=10170, num_dst_nodes=2048, num_edges=8661)]\n",
      "6: [Block(num_src_nodes=53628, num_dst_nodes=30086, num_edges=104948), Block(num_src_nodes=30086, num_dst_nodes=10307, num_edges=40110), Block(num_src_nodes=10307, num_dst_nodes=2048, num_edges=8764)]\n",
      "7: [Block(num_src_nodes=54354, num_dst_nodes=29624, num_edges=105296), Block(num_src_nodes=29624, num_dst_nodes=10074, num_edges=38831), Block(num_src_nodes=10074, num_dst_nodes=2048, num_edges=8578)]\n",
      "8: [Block(num_src_nodes=50323, num_dst_nodes=28085, num_edges=96553), Block(num_src_nodes=28085, num_dst_nodes=9815, num_edges=36863), Block(num_src_nodes=9815, num_dst_nodes=2048, num_edges=8218)]\n",
      "9: [Block(num_src_nodes=55578, num_dst_nodes=31165, num_edges=112744), Block(num_src_nodes=31165, num_dst_nodes=10399, num_edges=42039), Block(num_src_nodes=10399, num_dst_nodes=2048, num_edges=8887)]\n",
      "10: [Block(num_src_nodes=53792, num_dst_nodes=30143, num_edges=104438), Block(num_src_nodes=30143, num_dst_nodes=10356, num_edges=39676), Block(num_src_nodes=10356, num_dst_nodes=2048, num_edges=8797)]\n",
      "11: [Block(num_src_nodes=54946, num_dst_nodes=30217, num_edges=108031), Block(num_src_nodes=30217, num_dst_nodes=10150, num_edges=40084), Block(num_src_nodes=10150, num_dst_nodes=2048, num_edges=8623)]\n",
      "12: [Block(num_src_nodes=55932, num_dst_nodes=31537, num_edges=112086), Block(num_src_nodes=31537, num_dst_nodes=10510, num_edges=41899), Block(num_src_nodes=10510, num_dst_nodes=2048, num_edges=9000)]\n",
      "13: [Block(num_src_nodes=56286, num_dst_nodes=31430, num_edges=111679), Block(num_src_nodes=31430, num_dst_nodes=10472, num_edges=42152), Block(num_src_nodes=10472, num_dst_nodes=2048, num_edges=8933)]\n",
      "14: [Block(num_src_nodes=53271, num_dst_nodes=29874, num_edges=106532), Block(num_src_nodes=29874, num_dst_nodes=10073, num_edges=40026), Block(num_src_nodes=10073, num_dst_nodes=2048, num_edges=8536)]\n",
      "15: [Block(num_src_nodes=55551, num_dst_nodes=31262, num_edges=110888), Block(num_src_nodes=31262, num_dst_nodes=10239, num_edges=41711), Block(num_src_nodes=10239, num_dst_nodes=2048, num_edges=8710)]\n",
      "16: [Block(num_src_nodes=53614, num_dst_nodes=29842, num_edges=103888), Block(num_src_nodes=29842, num_dst_nodes=10134, num_edges=39803), Block(num_src_nodes=10134, num_dst_nodes=2048, num_edges=8605)]\n",
      "17: [Block(num_src_nodes=53296, num_dst_nodes=28955, num_edges=104150), Block(num_src_nodes=28955, num_dst_nodes=9709, num_edges=37931), Block(num_src_nodes=9709, num_dst_nodes=2048, num_edges=8091)]\n",
      "18: [Block(num_src_nodes=53447, num_dst_nodes=29615, num_edges=103929), Block(num_src_nodes=29615, num_dst_nodes=10292, num_edges=39631), Block(num_src_nodes=10292, num_dst_nodes=2048, num_edges=8824)]\n",
      "19: [Block(num_src_nodes=54298, num_dst_nodes=29912, num_edges=105190), Block(num_src_nodes=29912, num_dst_nodes=10082, num_edges=39277), Block(num_src_nodes=10082, num_dst_nodes=2048, num_edges=8513)]\n",
      "20: [Block(num_src_nodes=54268, num_dst_nodes=30519, num_edges=108624), Block(num_src_nodes=30519, num_dst_nodes=10253, num_edges=40972), Block(num_src_nodes=10253, num_dst_nodes=2048, num_edges=8700)]\n",
      "21: [Block(num_src_nodes=55285, num_dst_nodes=30954, num_edges=111225), Block(num_src_nodes=30954, num_dst_nodes=10336, num_edges=41773), Block(num_src_nodes=10336, num_dst_nodes=2048, num_edges=8776)]\n",
      "22: [Block(num_src_nodes=54322, num_dst_nodes=29585, num_edges=104726), Block(num_src_nodes=29585, num_dst_nodes=9969, num_edges=38808), Block(num_src_nodes=9969, num_dst_nodes=2048, num_edges=8382)]\n",
      "23: [Block(num_src_nodes=55837, num_dst_nodes=31037, num_edges=110546), Block(num_src_nodes=31037, num_dst_nodes=10458, num_edges=41640), Block(num_src_nodes=10458, num_dst_nodes=2048, num_edges=8938)]\n",
      "24: [Block(num_src_nodes=54499, num_dst_nodes=29956, num_edges=106348), Block(num_src_nodes=29956, num_dst_nodes=10076, num_edges=39522), Block(num_src_nodes=10076, num_dst_nodes=2048, num_edges=8466)]\n",
      "25: [Block(num_src_nodes=55489, num_dst_nodes=31068, num_edges=108617), Block(num_src_nodes=31068, num_dst_nodes=10490, num_edges=41082), Block(num_src_nodes=10490, num_dst_nodes=2048, num_edges=8970)]\n",
      "26: [Block(num_src_nodes=52090, num_dst_nodes=29561, num_edges=101836), Block(num_src_nodes=29561, num_dst_nodes=10224, num_edges=39477), Block(num_src_nodes=10224, num_dst_nodes=2048, num_edges=8653)]\n",
      "27: [Block(num_src_nodes=56040, num_dst_nodes=30869, num_edges=109310), Block(num_src_nodes=30869, num_dst_nodes=10268, num_edges=40443), Block(num_src_nodes=10268, num_dst_nodes=2048, num_edges=8692)]\n",
      "28: [Block(num_src_nodes=52643, num_dst_nodes=28548, num_edges=99127), Block(num_src_nodes=28548, num_dst_nodes=9832, num_edges=37021), Block(num_src_nodes=9832, num_dst_nodes=2048, num_edges=8186)]\n",
      "29: [Block(num_src_nodes=55078, num_dst_nodes=30786, num_edges=109475), Block(num_src_nodes=30786, num_dst_nodes=10346, num_edges=41215), Block(num_src_nodes=10346, num_dst_nodes=2048, num_edges=8866)]\n",
      "30: [Block(num_src_nodes=54588, num_dst_nodes=30291, num_edges=106053), Block(num_src_nodes=30291, num_dst_nodes=10196, num_edges=40185), Block(num_src_nodes=10196, num_dst_nodes=2048, num_edges=8591)]\n",
      "31: [Block(num_src_nodes=58653, num_dst_nodes=33144, num_edges=118851), Block(num_src_nodes=33144, num_dst_nodes=10896, num_edges=45046), Block(num_src_nodes=10896, num_dst_nodes=2048, num_edges=9401)]\n",
      "32: [Block(num_src_nodes=54082, num_dst_nodes=30312, num_edges=107214), Block(num_src_nodes=30312, num_dst_nodes=10137, num_edges=39872), Block(num_src_nodes=10137, num_dst_nodes=2048, num_edges=8557)]\n",
      "33: [Block(num_src_nodes=56512, num_dst_nodes=31678, num_edges=113058), Block(num_src_nodes=31678, num_dst_nodes=10581, num_edges=42525), Block(num_src_nodes=10581, num_dst_nodes=2048, num_edges=9034)]\n",
      "34: [Block(num_src_nodes=54474, num_dst_nodes=30490, num_edges=106656), Block(num_src_nodes=30490, num_dst_nodes=10330, num_edges=40370), Block(num_src_nodes=10330, num_dst_nodes=2048, num_edges=8796)]\n",
      "35: [Block(num_src_nodes=54011, num_dst_nodes=30100, num_edges=105678), Block(num_src_nodes=30100, num_dst_nodes=10240, num_edges=39583), Block(num_src_nodes=10240, num_dst_nodes=2048, num_edges=8708)]\n",
      "36: [Block(num_src_nodes=53809, num_dst_nodes=30121, num_edges=106618), Block(num_src_nodes=30121, num_dst_nodes=10156, num_edges=40620), Block(num_src_nodes=10156, num_dst_nodes=2048, num_edges=8705)]\n",
      "37: [Block(num_src_nodes=56413, num_dst_nodes=31357, num_edges=111755), Block(num_src_nodes=31357, num_dst_nodes=10355, num_edges=42043), Block(num_src_nodes=10355, num_dst_nodes=2048, num_edges=8810)]\n",
      "38: [Block(num_src_nodes=55406, num_dst_nodes=31300, num_edges=110316), Block(num_src_nodes=31300, num_dst_nodes=10454, num_edges=41626), Block(num_src_nodes=10454, num_dst_nodes=2048, num_edges=8934)]\n",
      "39: [Block(num_src_nodes=55584, num_dst_nodes=30958, num_edges=108435), Block(num_src_nodes=30958, num_dst_nodes=10371, num_edges=41027), Block(num_src_nodes=10371, num_dst_nodes=2048, num_edges=8824)]\n",
      "40: [Block(num_src_nodes=55330, num_dst_nodes=30450, num_edges=109218), Block(num_src_nodes=30450, num_dst_nodes=10034, num_edges=40270), Block(num_src_nodes=10034, num_dst_nodes=2048, num_edges=8445)]\n",
      "41: [Block(num_src_nodes=53985, num_dst_nodes=30205, num_edges=104767), Block(num_src_nodes=30205, num_dst_nodes=10147, num_edges=39956), Block(num_src_nodes=10147, num_dst_nodes=2048, num_edges=8552)]\n",
      "42: [Block(num_src_nodes=55760, num_dst_nodes=30969, num_edges=110828), Block(num_src_nodes=30969, num_dst_nodes=10376, num_edges=41054), Block(num_src_nodes=10376, num_dst_nodes=2048, num_edges=8807)]\n",
      "43: [Block(num_src_nodes=57318, num_dst_nodes=31697, num_edges=114792), Block(num_src_nodes=31697, num_dst_nodes=10397, num_edges=42112), Block(num_src_nodes=10397, num_dst_nodes=2048, num_edges=8901)]\n",
      "44: [Block(num_src_nodes=33991, num_dst_nodes=15218, num_edges=56051), Block(num_src_nodes=15218, num_dst_nodes=4416, num_edges=18135), Block(num_src_nodes=4416, num_dst_nodes=829, num_edges=3688)]\n"
     ]
    }
   ],
   "source": [
    "import gc\n",
    "for step, (input_nodes, seeds, blocks) in enumerate(train_dataloader):\n",
    "    print(f\"{step}: {blocks}\")\n",
    "    h = blocks[0].srcdata['feat']\n",
    "    for i in range(len(blocks)):\n",
    "        rst = gat(blocks[0], blocks[0].srcdata['feat'])\n",
    "#         h = rst\n",
    "#         print(rst.shape)\n"
   ]
  },
  {
   "cell_type": "code",
   "execution_count": 70,
   "id": "ae4b6fc1-16c3-476f-953b-f481df83cc24",
   "metadata": {},
   "outputs": [
    {
     "data": {
      "text/plain": [
       "torch.Size([176257, 3, 64])"
      ]
     },
     "execution_count": 70,
     "metadata": {},
     "output_type": "execute_result"
    }
   ],
   "source": [
    "rst.shape"
   ]
  },
  {
   "cell_type": "code",
   "execution_count": 20,
   "id": "a5cb2d9c-5433-4fa1-a61e-8f479c3c5259",
   "metadata": {},
   "outputs": [
    {
     "data": {
      "text/plain": [
       "['_graph',\n",
       " '_canonical_etypes',\n",
       " '_batch_num_nodes',\n",
       " '_batch_num_edges',\n",
       " '_ntypes',\n",
       " '_srctypes_invmap',\n",
       " '_dsttypes_invmap',\n",
       " '_is_unibipartite',\n",
       " '_etypes',\n",
       " '_etype2canonical',\n",
       " '_etypes_invmap',\n",
       " '_node_frames',\n",
       " '_edge_frames',\n",
       " '__module__',\n",
       " '__doc__',\n",
       " 'is_block',\n",
       " '__repr__',\n",
       " '__init__',\n",
       " '_init',\n",
       " '__setstate__',\n",
       " '__copy__',\n",
       " 'add_nodes',\n",
       " 'add_edge',\n",
       " 'add_edges',\n",
       " 'remove_edges',\n",
       " 'remove_nodes',\n",
       " '_reset_cached_info',\n",
       " 'is_unibipartite',\n",
       " 'ntypes',\n",
       " 'etypes',\n",
       " 'canonical_etypes',\n",
       " 'srctypes',\n",
       " 'dsttypes',\n",
       " 'metagraph',\n",
       " 'to_canonical_etype',\n",
       " 'get_ntype_id',\n",
       " 'get_ntype_id_from_src',\n",
       " 'get_ntype_id_from_dst',\n",
       " 'get_etype_id',\n",
       " 'batch_size',\n",
       " 'batch_num_nodes',\n",
       " 'set_batch_num_nodes',\n",
       " 'batch_num_edges',\n",
       " 'set_batch_num_edges',\n",
       " 'nodes',\n",
       " 'srcnodes',\n",
       " 'dstnodes',\n",
       " 'ndata',\n",
       " 'srcdata',\n",
       " 'dstdata',\n",
       " 'edges',\n",
       " 'edata',\n",
       " '_find_etypes',\n",
       " '__getitem__',\n",
       " 'number_of_nodes',\n",
       " 'num_nodes',\n",
       " 'number_of_src_nodes',\n",
       " 'num_src_nodes',\n",
       " 'number_of_dst_nodes',\n",
       " 'num_dst_nodes',\n",
       " 'number_of_edges',\n",
       " 'num_edges',\n",
       " '__len__',\n",
       " 'is_multigraph',\n",
       " 'is_homogeneous',\n",
       " 'is_readonly',\n",
       " 'idtype',\n",
       " '_idtype_str',\n",
       " '__contains__',\n",
       " 'has_nodes',\n",
       " 'has_node',\n",
       " 'has_edges_between',\n",
       " 'has_edge_between',\n",
       " 'predecessors',\n",
       " 'successors',\n",
       " 'edge_id',\n",
       " 'edge_ids',\n",
       " 'find_edges',\n",
       " 'in_edges',\n",
       " 'out_edges',\n",
       " 'all_edges',\n",
       " 'in_degree',\n",
       " 'in_degrees',\n",
       " 'out_degree',\n",
       " 'out_degrees',\n",
       " 'adjacency_matrix',\n",
       " 'adj',\n",
       " 'adjacency_matrix_scipy',\n",
       " 'inc',\n",
       " 'incidence_matrix',\n",
       " 'node_attr_schemes',\n",
       " 'edge_attr_schemes',\n",
       " 'set_n_initializer',\n",
       " 'set_e_initializer',\n",
       " '_set_n_repr',\n",
       " '_get_n_repr',\n",
       " '_pop_n_repr',\n",
       " '_set_e_repr',\n",
       " '_get_e_repr',\n",
       " '_pop_e_repr',\n",
       " 'apply_nodes',\n",
       " 'apply_edges',\n",
       " 'send_and_recv',\n",
       " 'pull',\n",
       " 'push',\n",
       " 'update_all',\n",
       " 'multi_update_all',\n",
       " 'prop_nodes',\n",
       " 'prop_edges',\n",
       " 'filter_nodes',\n",
       " 'filter_edges',\n",
       " 'device',\n",
       " 'to',\n",
       " 'cpu',\n",
       " 'clone',\n",
       " 'local_var',\n",
       " 'local_scope',\n",
       " 'formats',\n",
       " 'create_formats_',\n",
       " 'astype',\n",
       " 'shared_memory',\n",
       " 'long',\n",
       " 'int',\n",
       " 'from_networkx',\n",
       " 'from_scipy_sparse_matrix',\n",
       " 'register_apply_node_func',\n",
       " 'register_apply_edge_func',\n",
       " 'register_message_func',\n",
       " 'register_reduce_func',\n",
       " 'group_apply_edges',\n",
       " 'send',\n",
       " 'recv',\n",
       " 'multi_recv',\n",
       " 'multi_send_and_recv',\n",
       " 'multi_pull',\n",
       " 'readonly',\n",
       " '__dict__',\n",
       " '__weakref__',\n",
       " 'to_networkx',\n",
       " 'line_graph',\n",
       " 'reverse',\n",
       " 'add_self_loop',\n",
       " 'remove_self_loop',\n",
       " 'to_simple',\n",
       " 'subgraph',\n",
       " 'edge_subgraph',\n",
       " 'in_subgraph',\n",
       " 'out_subgraph',\n",
       " 'node_type_subgraph',\n",
       " 'edge_type_subgraph',\n",
       " '__hash__',\n",
       " '__str__',\n",
       " '__getattribute__',\n",
       " '__setattr__',\n",
       " '__delattr__',\n",
       " '__lt__',\n",
       " '__le__',\n",
       " '__eq__',\n",
       " '__ne__',\n",
       " '__gt__',\n",
       " '__ge__',\n",
       " '__new__',\n",
       " '__reduce_ex__',\n",
       " '__reduce__',\n",
       " '__subclasshook__',\n",
       " '__init_subclass__',\n",
       " '__format__',\n",
       " '__sizeof__',\n",
       " '__dir__',\n",
       " '__class__']"
      ]
     },
     "execution_count": 20,
     "metadata": {},
     "output_type": "execute_result"
    }
   ],
   "source": [
    "blocks[0].__dir__()"
   ]
  },
  {
   "cell_type": "code",
   "execution_count": null,
   "id": "c114e50c-9841-4bc7-b727-c9eae684ac3c",
   "metadata": {},
   "outputs": [],
   "source": []
  }
 ],
 "metadata": {
  "kernelspec": {
   "display_name": "Python 3 (ipykernel)",
   "language": "python",
   "name": "python3"
  },
  "language_info": {
   "codemirror_mode": {
    "name": "ipython",
    "version": 3
   },
   "file_extension": ".py",
   "mimetype": "text/x-python",
   "name": "python",
   "nbconvert_exporter": "python",
   "pygments_lexer": "ipython3",
   "version": "3.8.0"
  }
 },
 "nbformat": 4,
 "nbformat_minor": 5
}
