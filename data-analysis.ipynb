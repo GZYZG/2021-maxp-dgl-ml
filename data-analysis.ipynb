{
 "cells": [
  {
   "cell_type": "code",
   "execution_count": 185,
   "id": "29786b21-2b45-4a12-90d7-1231676720e0",
   "metadata": {},
   "outputs": [],
   "source": [
    "import os\n",
    "import pickle\n",
    "import numpy as np\n",
    "import pandas as pd\n",
    "import matplotlib.pyplot as plt\n",
    "from collections import Counter as Cnt\n",
    "\n",
    "plt.rcParams['font.sans-serif'] = ['Lucid']  # 用来正常显示中文标签\n",
    "plt.rcParams['axes.unicode_minus'] = False  # 用来正常显示负号"
   ]
  },
  {
   "cell_type": "code",
   "execution_count": 5,
   "id": "a45d8ae6-d234-4a26-bbb6-d25061518b64",
   "metadata": {},
   "outputs": [],
   "source": [
    "data_path = \"./dataset\""
   ]
  },
  {
   "cell_type": "code",
   "execution_count": 6,
   "id": "51fa9023-b36d-4e2a-80c3-e52437904921",
   "metadata": {},
   "outputs": [
    {
     "data": {
      "text/plain": [
       "['link_phase1.csv',\n",
       " 'graph.bin',\n",
       " 'diff_nodes.csv',\n",
       " 'sample_submission_for_validation.csv',\n",
       " 'labels.pkl',\n",
       " '数据说明.md',\n",
       " 'train_nodes.csv',\n",
       " 'validation_nodes.csv',\n",
       " 'IDandLabels.csv',\n",
       " 'features.npy',\n",
       " '.ipynb_checkpoints']"
      ]
     },
     "execution_count": 6,
     "metadata": {},
     "output_type": "execute_result"
    }
   ],
   "source": [
    "os.listdir(data_path)"
   ]
  },
  {
   "cell_type": "code",
   "execution_count": 142,
   "id": "0b6d7886-e6ac-4bba-b955-0780c29d1947",
   "metadata": {},
   "outputs": [],
   "source": [
    "with open(os.path.join(data_path, 'labels.pkl'), 'rb') as f:\n",
    "    labels = pickle.load(f)\n",
    "    "
   ]
  },
  {
   "cell_type": "code",
   "execution_count": 143,
   "id": "65290662-600f-4151-a3ec-6db5fe61e976",
   "metadata": {},
   "outputs": [
    {
     "data": {
      "text/plain": [
       "{'tr_label_idx': array([   6018,    9505,    9507, ..., 2493585, 2493586, 2493587]),\n",
       " 'val_label_idx': array([2343425, 2348861, 2349640, ..., 3051283, 3053140, 3058462]),\n",
       " 'test_label_idx': array([3063061, 3063062, 3063063, ..., 3655449, 3655450, 3655451]),\n",
       " 'label': array([18, -1,  6, ..., -1, -1, -1])}"
      ]
     },
     "execution_count": 143,
     "metadata": {},
     "output_type": "execute_result"
    }
   ],
   "source": [
    "labels"
   ]
  },
  {
   "cell_type": "markdown",
   "id": "d7670d62-1351-474b-9a9d-9825357e4d7d",
   "metadata": {},
   "source": [
    "# 分析连接关系\n",
    "\n",
    "- 一共有多少边\n",
    "- 哪些节点是游离的，train里哪些节点是游离的，validation里哪些结点是游离的\n",
    "- 每个结点的入度和出度"
   ]
  },
  {
   "cell_type": "code",
   "execution_count": 16,
   "id": "8f3680c2-efe8-420a-9cb2-b24d430295c8",
   "metadata": {},
   "outputs": [
    {
     "name": "stderr",
     "output_type": "stream",
     "text": [
      "<decorator-gen-54>:2: DtypeWarning: Columns (2) have mixed types.Specify dtype option on import or set low_memory=False.\n"
     ]
    },
    {
     "name": "stdout",
     "output_type": "stream",
     "text": [
      "CPU times: user 32.8 s, sys: 2.4 s, total: 35.2 s\n",
      "Wall time: 35.2 s\n"
     ]
    }
   ],
   "source": [
    "%%time\n",
    "id_labels = pd.read_csv(os.path.join(data_path, 'IDandLabels.csv'))\n",
    "edges = pd.read_csv(os.path.join(data_path, 'link_phase1.csv'))"
   ]
  },
  {
   "cell_type": "code",
   "execution_count": 46,
   "id": "ef4bafbf-187b-4576-a1a1-77b147db0a88",
   "metadata": {},
   "outputs": [],
   "source": [
    "# 构建paper_id 到 node_idx的映射\n",
    "paper_idx = dict(zip(id_labels['paper_id'].to_list(), id_labels['node_idx'].to_list()))"
   ]
  },
  {
   "cell_type": "code",
   "execution_count": 55,
   "id": "15c896b5-a906-42bb-b844-b9f217a451f8",
   "metadata": {},
   "outputs": [
    {
     "data": {
      "text/html": [
       "<div>\n",
       "<style scoped>\n",
       "    .dataframe tbody tr th:only-of-type {\n",
       "        vertical-align: middle;\n",
       "    }\n",
       "\n",
       "    .dataframe tbody tr th {\n",
       "        vertical-align: top;\n",
       "    }\n",
       "\n",
       "    .dataframe thead th {\n",
       "        text-align: right;\n",
       "    }\n",
       "</style>\n",
       "<table border=\"1\" class=\"dataframe\">\n",
       "  <thead>\n",
       "    <tr style=\"text-align: right;\">\n",
       "      <th></th>\n",
       "      <th>node_idx</th>\n",
       "      <th>reference_node_idx</th>\n",
       "    </tr>\n",
       "  </thead>\n",
       "  <tbody>\n",
       "    <tr>\n",
       "      <th>0</th>\n",
       "      <td>529879</td>\n",
       "      <td>2364950</td>\n",
       "    </tr>\n",
       "    <tr>\n",
       "      <th>1</th>\n",
       "      <td>410481</td>\n",
       "      <td>384023</td>\n",
       "    </tr>\n",
       "    <tr>\n",
       "      <th>2</th>\n",
       "      <td>2196044</td>\n",
       "      <td>1895619</td>\n",
       "    </tr>\n",
       "    <tr>\n",
       "      <th>3</th>\n",
       "      <td>2545623</td>\n",
       "      <td>2175977</td>\n",
       "    </tr>\n",
       "    <tr>\n",
       "      <th>4</th>\n",
       "      <td>165064</td>\n",
       "      <td>1912514</td>\n",
       "    </tr>\n",
       "    <tr>\n",
       "      <th>...</th>\n",
       "      <td>...</td>\n",
       "      <td>...</td>\n",
       "    </tr>\n",
       "    <tr>\n",
       "      <th>29168645</th>\n",
       "      <td>2534866</td>\n",
       "      <td>25560</td>\n",
       "    </tr>\n",
       "    <tr>\n",
       "      <th>29168646</th>\n",
       "      <td>1944890</td>\n",
       "      <td>838369</td>\n",
       "    </tr>\n",
       "    <tr>\n",
       "      <th>29168647</th>\n",
       "      <td>1548308</td>\n",
       "      <td>585520</td>\n",
       "    </tr>\n",
       "    <tr>\n",
       "      <th>29168648</th>\n",
       "      <td>982077</td>\n",
       "      <td>1320220</td>\n",
       "    </tr>\n",
       "    <tr>\n",
       "      <th>29168649</th>\n",
       "      <td>1116349</td>\n",
       "      <td>1251570</td>\n",
       "    </tr>\n",
       "  </tbody>\n",
       "</table>\n",
       "<p>29168650 rows × 2 columns</p>\n",
       "</div>"
      ],
      "text/plain": [
       "          node_idx  reference_node_idx\n",
       "0           529879             2364950\n",
       "1           410481              384023\n",
       "2          2196044             1895619\n",
       "3          2545623             2175977\n",
       "4           165064             1912514\n",
       "...            ...                 ...\n",
       "29168645   2534866               25560\n",
       "29168646   1944890              838369\n",
       "29168647   1548308              585520\n",
       "29168648    982077             1320220\n",
       "29168649   1116349             1251570\n",
       "\n",
       "[29168650 rows x 2 columns]"
      ]
     },
     "execution_count": 55,
     "metadata": {},
     "output_type": "execute_result"
    }
   ],
   "source": [
    "# 将原来的边列表转换为node_idx的边列表\n",
    "edges_idx = pd.DataFrame({'node_idx': edges['paper_id'].apply(lambda e: paper_idx[e]), 'reference_node_id': edges['reference_paper_id'].apply(lambda e: paper_idx[e])})\n",
    "edges_idx"
   ]
  },
  {
   "cell_type": "code",
   "execution_count": null,
   "id": "6efb23dd-8b7d-4054-9680-7013be3a8348",
   "metadata": {},
   "outputs": [],
   "source": [
    "# 将转换为node_idx后的边列表保存\n",
    "edges_idx.to_csv(os.path.join(data_path, 'link_phase1_node_idx.csv'), index=False)"
   ]
  },
  {
   "cell_type": "code",
   "execution_count": 64,
   "id": "96bb0bac-799f-4797-a5d4-2d21f57cbb3b",
   "metadata": {},
   "outputs": [],
   "source": [
    "g = edges_idx.groupby('node_idx')"
   ]
  },
  {
   "cell_type": "code",
   "execution_count": 75,
   "id": "d493fa91-4f1a-4230-8bf6-a8702418c6ab",
   "metadata": {},
   "outputs": [],
   "source": [
    "ref_num = g.agg(len)"
   ]
  },
  {
   "cell_type": "code",
   "execution_count": 77,
   "id": "c2bba5f9-8295-4d87-bab3-14efd0e373f7",
   "metadata": {},
   "outputs": [],
   "source": [
    "ref_g = edges_idx.groupby('reference_node_idx')"
   ]
  },
  {
   "cell_type": "code",
   "execution_count": 78,
   "id": "bc3e96f1-0f10-45e5-b4b5-36a5508bfa3f",
   "metadata": {},
   "outputs": [],
   "source": [
    "refed_num = ref_g.agg(len)"
   ]
  },
  {
   "cell_type": "markdown",
   "id": "c749426e-c4c8-49d3-b7d6-ec4a13ab43be",
   "metadata": {},
   "source": [
    "引文数量直方图和被引数量直方图"
   ]
  },
  {
   "cell_type": "code",
   "execution_count": 199,
   "id": "4c8e97cd-55ad-4c70-9546-7bc4a186d170",
   "metadata": {},
   "outputs": [
    {
     "data": {
      "text/plain": [
       "[(1, 223984),\n",
       " (2, 208634),\n",
       " (3, 199283),\n",
       " (4, 190551),\n",
       " (5, 181905),\n",
       " (6, 171365),\n",
       " (7, 161650),\n",
       " (8, 148799),\n",
       " (9, 136829),\n",
       " (10, 124361)]"
      ]
     },
     "execution_count": 199,
     "metadata": {},
     "output_type": "execute_result"
    }
   ],
   "source": [
    "tt = Cnt(ref_num['reference_node_idx'])\n",
    "tt.most_common(10)"
   ]
  },
  {
   "cell_type": "code",
   "execution_count": 208,
   "id": "a47593d6-6e2c-4fdf-a72e-105b009df4e1",
   "metadata": {},
   "outputs": [
    {
     "data": {
      "image/png": "[encoded data removed]",
      "text/plain": [
       "<Figure size 864x576 with 2 Axes>"
      ]
     },
     "metadata": {
      "needs_background": "light"
     },
     "output_type": "display_data"
    }
   ],
   "source": [
    "fig, ax = plt.subplots(2, 1, figsize=(12, 8), constrained_layout=1)\n",
    "_ = ax[0].hist(ref_num['reference_node_idx'], bins=200, log=1)\n",
    "_ = ax[1].hist(refed_num['node_idx'], bins=200, log=1)\n",
    "\n",
    "ax[0].set_ylabel('frequency')\n",
    "ax[0].set_xlabel('ref papers') # x轴表示引用的文献数\n",
    "ax[1].set_ylabel('frequency')\n",
    "_ = ax[1].set_xlabel('refed by ') # x轴表示被多少文献引用了"
   ]
  },
  {
   "cell_type": "code",
   "execution_count": 137,
   "id": "0edc8fe2-eef4-414e-9481-9f1d3a33022c",
   "metadata": {},
   "outputs": [],
   "source": [
    "all_nodes = set(edges_idx['node_idx'].to_list() + edges_idx['reference_node_idx'].to_list())"
   ]
  },
  {
   "cell_type": "code",
   "execution_count": 156,
   "id": "8001a3aa-b718-448f-8a75-ae40894489f1",
   "metadata": {
    "tags": []
   },
   "outputs": [],
   "source": [
    "tri = set(labels['tr_label_idx'])\n",
    "tri = tri.union(set(labels['val_label_idx']))\n",
    "\n",
    "tes = set(labels['test_label_idx'])"
   ]
  },
  {
   "cell_type": "code",
   "execution_count": 176,
   "id": "182e5478-03c4-485c-b003-1cb3ce756d80",
   "metadata": {},
   "outputs": [
    {
     "data": {
      "text/plain": [
       "((109060,), (88751,))"
      ]
     },
     "execution_count": 176,
     "metadata": {},
     "output_type": "execute_result"
    }
   ],
   "source": [
    "free_tri = np.array(list(tri - all_nodes))\n",
    "free_tes = np.array(list(tes - all_nodes))\n",
    "\n",
    "free_tri.shape, free_tes.shape"
   ]
  },
  {
   "cell_type": "code",
   "execution_count": 175,
   "id": "7801c376-c866-454b-bb1a-021f370d77ca",
   "metadata": {},
   "outputs": [],
   "source": [
    "# 保存游离的结点的索引\n",
    "with open(os.path.join(data_path, \"free_nodes.pkl\"), 'wb') as f:\n",
    "    pickle.dump({\n",
    "        'free_trian_idx': free_tri, \n",
    "        'free_test_idx': free_tes\n",
    "    }, f)"
   ]
  },
  {
   "cell_type": "code",
   "execution_count": 219,
   "id": "c5097142-b8dc-4292-9b03-5153fa7ffa3e",
   "metadata": {},
   "outputs": [
    {
     "data": {
      "text/html": [
       "<div>\n",
       "<style scoped>\n",
       "    .dataframe tbody tr th:only-of-type {\n",
       "        vertical-align: middle;\n",
       "    }\n",
       "\n",
       "    .dataframe tbody tr th {\n",
       "        vertical-align: top;\n",
       "    }\n",
       "\n",
       "    .dataframe thead th {\n",
       "        text-align: right;\n",
       "    }\n",
       "</style>\n",
       "<table border=\"1\" class=\"dataframe\">\n",
       "  <thead>\n",
       "    <tr style=\"text-align: right;\">\n",
       "      <th></th>\n",
       "      <th>node_idx</th>\n",
       "      <th>paper_id</th>\n",
       "      <th>Label</th>\n",
       "      <th>Split_ID</th>\n",
       "    </tr>\n",
       "  </thead>\n",
       "  <tbody>\n",
       "    <tr>\n",
       "      <th>0</th>\n",
       "      <td>0</td>\n",
       "      <td>bfdee5ab86ef5e68da974d48a138c28e</td>\n",
       "      <td>S</td>\n",
       "      <td>0</td>\n",
       "    </tr>\n",
       "    <tr>\n",
       "      <th>1</th>\n",
       "      <td>1</td>\n",
       "      <td>78f43b8b62f040347fec0be44e5f08bd</td>\n",
       "      <td>NaN</td>\n",
       "      <td>0</td>\n",
       "    </tr>\n",
       "    <tr>\n",
       "      <th>2</th>\n",
       "      <td>2</td>\n",
       "      <td>a971601a0286d2701aa5cde46e63a9fd</td>\n",
       "      <td>G</td>\n",
       "      <td>0</td>\n",
       "    </tr>\n",
       "    <tr>\n",
       "      <th>3</th>\n",
       "      <td>3</td>\n",
       "      <td>ac4b88a72146bae66cedfd1c13e1552d</td>\n",
       "      <td>NaN</td>\n",
       "      <td>0</td>\n",
       "    </tr>\n",
       "    <tr>\n",
       "      <th>4</th>\n",
       "      <td>4</td>\n",
       "      <td>a48c92cc8f67a8327adac7ff62d24a53</td>\n",
       "      <td>W</td>\n",
       "      <td>0</td>\n",
       "    </tr>\n",
       "    <tr>\n",
       "      <th>...</th>\n",
       "      <td>...</td>\n",
       "      <td>...</td>\n",
       "      <td>...</td>\n",
       "      <td>...</td>\n",
       "    </tr>\n",
       "    <tr>\n",
       "      <th>3655447</th>\n",
       "      <td>3655447</td>\n",
       "      <td>ce9f6a2278633a2dd47838b5e62e15f1</td>\n",
       "      <td>NaN</td>\n",
       "      <td>1</td>\n",
       "    </tr>\n",
       "    <tr>\n",
       "      <th>3655448</th>\n",
       "      <td>3655448</td>\n",
       "      <td>caed47d55d1e193ecb1fa97a415c13dd</td>\n",
       "      <td>NaN</td>\n",
       "      <td>1</td>\n",
       "    </tr>\n",
       "    <tr>\n",
       "      <th>3655449</th>\n",
       "      <td>3655449</td>\n",
       "      <td>c82eb6be79a245392fb626b9a7e1f246</td>\n",
       "      <td>NaN</td>\n",
       "      <td>1</td>\n",
       "    </tr>\n",
       "    <tr>\n",
       "      <th>3655450</th>\n",
       "      <td>3655450</td>\n",
       "      <td>926a31f6b378575204aae30b5dfa6dd3</td>\n",
       "      <td>NaN</td>\n",
       "      <td>1</td>\n",
       "    </tr>\n",
       "    <tr>\n",
       "      <th>3655451</th>\n",
       "      <td>3655451</td>\n",
       "      <td>bbace2419c3f827158ea4602f3eb35fa</td>\n",
       "      <td>NaN</td>\n",
       "      <td>1</td>\n",
       "    </tr>\n",
       "  </tbody>\n",
       "</table>\n",
       "<p>3655452 rows × 4 columns</p>\n",
       "</div>"
      ],
      "text/plain": [
       "         node_idx                          paper_id Label  Split_ID\n",
       "0               0  bfdee5ab86ef5e68da974d48a138c28e     S         0\n",
       "1               1  78f43b8b62f040347fec0be44e5f08bd   NaN         0\n",
       "2               2  a971601a0286d2701aa5cde46e63a9fd     G         0\n",
       "3               3  ac4b88a72146bae66cedfd1c13e1552d   NaN         0\n",
       "4               4  a48c92cc8f67a8327adac7ff62d24a53     W         0\n",
       "...           ...                               ...   ...       ...\n",
       "3655447   3655447  ce9f6a2278633a2dd47838b5e62e15f1   NaN         1\n",
       "3655448   3655448  caed47d55d1e193ecb1fa97a415c13dd   NaN         1\n",
       "3655449   3655449  c82eb6be79a245392fb626b9a7e1f246   NaN         1\n",
       "3655450   3655450  926a31f6b378575204aae30b5dfa6dd3   NaN         1\n",
       "3655451   3655451  bbace2419c3f827158ea4602f3eb35fa   NaN         1\n",
       "\n",
       "[3655452 rows x 4 columns]"
      ]
     },
     "execution_count": 219,
     "metadata": {},
     "output_type": "execute_result"
    }
   ],
   "source": [
    "id_labels"
   ]
  },
  {
   "cell_type": "markdown",
   "id": "721065f6-14e3-45b4-aa31-8f53a9588c45",
   "metadata": {},
   "source": [
    "# 类别分布"
   ]
  },
  {
   "cell_type": "code",
   "execution_count": 210,
   "id": "20f3c07c-cc5c-49b3-8b96-999a4411f7d3",
   "metadata": {},
   "outputs": [],
   "source": [
    "label = labels['label']\n",
    "label = label[label!=-1]"
   ]
  },
  {
   "cell_type": "code",
   "execution_count": 214,
   "id": "2f7b4aec-9ee5-4c5b-b3ef-e0b7dd28b87b",
   "metadata": {},
   "outputs": [
    {
     "data": {
      "image/png": "[encoded data removed]",
      "text/plain": [
       "<Figure size 432x288 with 1 Axes>"
      ]
     },
     "metadata": {
      "needs_background": "light"
     },
     "output_type": "display_data"
    }
   ],
   "source": [
    "_ = plt.hist(label, bins=23, log=0, density=0)"
   ]
  },
  {
   "cell_type": "code",
   "execution_count": 215,
   "id": "6fe150ab-f94f-4ee6-865a-added7084bb0",
   "metadata": {},
   "outputs": [
    {
     "data": {
      "text/plain": [
       "Counter({18: 24609,\n",
       "         6: 43452,\n",
       "         22: 13111,\n",
       "         7: 71824,\n",
       "         8: 23994,\n",
       "         4: 45014,\n",
       "         16: 19676,\n",
       "         12: 83971,\n",
       "         15: 52166,\n",
       "         11: 53391,\n",
       "         19: 20878,\n",
       "         2: 111502,\n",
       "         3: 104005,\n",
       "         9: 25241,\n",
       "         1: 65303,\n",
       "         20: 24740,\n",
       "         5: 32876,\n",
       "         21: 39557,\n",
       "         13: 103472,\n",
       "         14: 17593,\n",
       "         10: 32762,\n",
       "         17: 32610,\n",
       "         0: 2670})"
      ]
     },
     "execution_count": 215,
     "metadata": {},
     "output_type": "execute_result"
    }
   ],
   "source": [
    "Cnt(label)"
   ]
  },
  {
   "cell_type": "code",
   "execution_count": null,
   "id": "eca2ba82-2098-4c36-a3dd-b36bee45742c",
   "metadata": {},
   "outputs": [],
   "source": []
  }
 ],
 "metadata": {
  "kernelspec": {
   "display_name": "Python 3 (ipykernel)",
   "language": "python",
   "name": "python3"
  },
  "language_info": {
   "codemirror_mode": {
    "name": "ipython",
    "version": 3
   },
   "file_extension": ".py",
   "mimetype": "text/x-python",
   "name": "python",
   "nbconvert_exporter": "python",
   "pygments_lexer": "ipython3",
   "version": "3.8.0"
  }
 },
 "nbformat": 4,
 "nbformat_minor": 5
}
